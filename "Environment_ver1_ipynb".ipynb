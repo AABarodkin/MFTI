{
  "nbformat": 4,
  "nbformat_minor": 0,
  "metadata": {
    "colab": {
      "provenance": [],
      "collapsed_sections": [],
      "include_colab_link": true
    },
    "kernelspec": {
      "name": "python3",
      "display_name": "Python 3"
    },
    "language_info": {
      "name": "python"
    }
  },
  "cells": [
    {
      "cell_type": "markdown",
      "metadata": {
        "id": "view-in-github",
        "colab_type": "text"
      },
      "source": [
        "<a href=\"https://colab.research.google.com/github/AABarodkin/python_mftids22/blob/main/%22Environment_ver1_ipynb%22.ipynb\" target=\"_parent\"><img src=\"https://colab.research.google.com/assets/colab-badge.svg\" alt=\"Open In Colab\"/></a>"
      ]
    },
    {
      "cell_type": "code",
      "execution_count": 332,
      "metadata": {
        "id": "MXXTuy_o0sjk"
      },
      "outputs": [],
      "source": [
        "!pip install -q -U kaggle_environments"
      ]
    },
    {
      "cell_type": "code",
      "source": [
        "import numpy as np\n",
        "import pandas as pd\n",
        "import random\n",
        "\n",
        "import matplotlib.pyplot as plt\n",
        "import seaborn as sns\n",
        "\n",
        "from kaggle_environments import make, evaluate"
      ],
      "metadata": {
        "id": "yz23vWHD0wcj"
      },
      "execution_count": 333,
      "outputs": []
    },
    {
      "cell_type": "markdown",
      "source": [
        "Агент#1 который всегда камень"
      ],
      "metadata": {
        "id": "0kuo6IOxiRub"
      }
    },
    {
      "cell_type": "code",
      "source": [
        "%%writefile rock_agent.py\n",
        "\n",
        "\n",
        "#0 - rock\n",
        "#1 - paper\n",
        "#2 - scissors\n",
        "def your_agent(observation, configuration):\n",
        "    return 0"
      ],
      "metadata": {
        "id": "bqTqV7B92rJ6",
        "colab": {
          "base_uri": "https://localhost:8080/"
        },
        "outputId": "eccf6b1b-29e6-4d2a-8667-fb89bce6f107"
      },
      "execution_count": 334,
      "outputs": [
        {
          "output_type": "stream",
          "name": "stdout",
          "text": [
            "Overwriting rock_agent.py\n"
          ]
        }
      ]
    },
    {
      "cell_type": "markdown",
      "source": [
        "\n",
        "Агент#2 который всегда ножницы"
      ],
      "metadata": {
        "id": "2A96jkFkcLiL"
      }
    },
    {
      "cell_type": "code",
      "source": [
        "%%writefile scissors_agent.py\n",
        "\n",
        "\n",
        "#0 - rock\n",
        "#1 - paper\n",
        "#2 - scissors\n",
        "def your_agent(observation, configuration):\n",
        "    return 2"
      ],
      "metadata": {
        "colab": {
          "base_uri": "https://localhost:8080/"
        },
        "outputId": "762b6078-f6e7-44eb-ebf8-ec1787c417d4",
        "id": "lbWzPYjAcZxa"
      },
      "execution_count": 335,
      "outputs": [
        {
          "output_type": "stream",
          "name": "stdout",
          "text": [
            "Overwriting scissors_agent.py\n"
          ]
        }
      ]
    },
    {
      "cell_type": "markdown",
      "source": [
        "Агент#3 котрый всегда бумага"
      ],
      "metadata": {
        "id": "ykR5C9dNciKN"
      }
    },
    {
      "cell_type": "code",
      "source": [
        "%%writefile paper_agent.py\n",
        "\n",
        "\n",
        "#0 - rock\n",
        "#1 - paper\n",
        "#2 - scissors\n",
        "def your_agent(observation, configuration):\n",
        "    return 1"
      ],
      "metadata": {
        "colab": {
          "base_uri": "https://localhost:8080/"
        },
        "id": "a-OVgVXGcnM2",
        "outputId": "3597ec1e-d1a4-4e02-9f28-63537f4e0a3c"
      },
      "execution_count": 336,
      "outputs": [
        {
          "output_type": "stream",
          "name": "stdout",
          "text": [
            "Overwriting paper_agent.py\n"
          ]
        }
      ]
    },
    {
      "cell_type": "markdown",
      "source": [
        "Агент#4, который производит то же самое действие, что и оппонент на прошлом ходу"
      ],
      "metadata": {
        "id": "et1J5hUGigeh"
      }
    },
    {
      "cell_type": "code",
      "source": [
        "%%writefile copy_opponent.py\n",
        "\n",
        "import random\n",
        "def copy_opponent(observation, configuration):\n",
        "\n",
        "    if observation.step > 0:\n",
        "        return observation.lastOpponentAction\n",
        "    #initial step\n",
        "    else:\n",
        "        return random.randrange(0, configuration.signs)"
      ],
      "metadata": {
        "id": "7l6Ttw6qi0jk",
        "colab": {
          "base_uri": "https://localhost:8080/"
        },
        "outputId": "b75c20aa-052a-471c-9183-9f923115d12d"
      },
      "execution_count": 337,
      "outputs": [
        {
          "output_type": "stream",
          "name": "stdout",
          "text": [
            "Overwriting copy_opponent.py\n"
          ]
        }
      ]
    },
    {
      "cell_type": "markdown",
      "source": [
        "Агент#5 который делает победное действие прошлого хода оппонента"
      ],
      "metadata": {
        "id": "Kzfsn1CAdW0N"
      }
    },
    {
      "cell_type": "code",
      "source": [
        "%%writefile wincopy_opponent.py\n",
        "\n",
        "import random\n",
        "def wincopy_opponent(observation, configuration):\n",
        "\n",
        "    if observation.step > 0:\n",
        "      if observation.lastOpponentAction==0:\n",
        "        return 1\n",
        "      if observation.lastOpponentAction==1:\n",
        "        return 2\n",
        "      if observation.lastOpponentAction==2:\n",
        "        return 0\n",
        "    else:\n",
        "        return random.randrange(0, configuration.signs)"
      ],
      "metadata": {
        "colab": {
          "base_uri": "https://localhost:8080/"
        },
        "id": "PgQAGrXTdVh0",
        "outputId": "6dfc2682-d199-4c38-8595-87a03c28eb55"
      },
      "execution_count": 338,
      "outputs": [
        {
          "output_type": "stream",
          "name": "stdout",
          "text": [
            "Overwriting wincopy_opponent.py\n"
          ]
        }
      ]
    },
    {
      "cell_type": "markdown",
      "source": [
        "Агент #6 который делает проигрошное действие прошлого хода оппонента"
      ],
      "metadata": {
        "id": "12KUbyvbeYWK"
      }
    },
    {
      "cell_type": "code",
      "source": [
        "%%writefile losscopy_opponent.py\n",
        "#0 - rock\n",
        "#1 - paper\n",
        "#2 - scissors\n",
        "import random\n",
        "def losscopy_opponent(observation, configuration):\n",
        "\n",
        "    if observation.step > 0:\n",
        "      if observation.lastOpponentAction==0:\n",
        "        return 2\n",
        "      if observation.lastOpponentAction==1:\n",
        "        return 0\n",
        "      if observation.lastOpponentAction==2:\n",
        "        return 1\n",
        "    else:\n",
        "        return random.randrange(0, configuration.signs)"
      ],
      "metadata": {
        "colab": {
          "base_uri": "https://localhost:8080/"
        },
        "id": "uPi4IkHdehqf",
        "outputId": "86614897-10f2-4602-e3c7-2d870122c473"
      },
      "execution_count": 339,
      "outputs": [
        {
          "output_type": "stream",
          "name": "stdout",
          "text": [
            "Overwriting losscopy_opponent.py\n"
          ]
        }
      ]
    },
    {
      "cell_type": "markdown",
      "source": [
        "Агент #7 который статистично оценивает какое у оппонента наиболее частое действие за весь период игры и ставит всегда выйгрышное действие против него"
      ],
      "metadata": {
        "id": "sMK-YQ9zhJ6i"
      }
    },
    {
      "cell_type": "code",
      "source": [
        "%%writefile statist_opponent.py\n",
        "#0 - rock\n",
        "#1 - paper\n",
        "#2 - scissors\n",
        "import random\n",
        "stat={0:0,1:0,2:0}\n",
        "def statist(observation, configuration):\n",
        "  global stat\n",
        "  if observation.step > 0:\n",
        "    stat[observation.lastOpponentAction]=stat.get(observation.lastOpponentAction,0)+1\n",
        "    k=[stat[0],stat[1],stat[2]]\n",
        "    if max(k)==0:\n",
        "      return 1\n",
        "    if max(k)==1:\n",
        "      return 2\n",
        "    if max(k)==2:\n",
        "      return 0\n",
        "  else:\n",
        "    return random.randrange(0, configuration.signs)"
      ],
      "metadata": {
        "colab": {
          "base_uri": "https://localhost:8080/"
        },
        "id": "uBgv8QLmhKR2",
        "outputId": "45151f1e-9701-48eb-9334-1adc3fa0d226"
      },
      "execution_count": 340,
      "outputs": [
        {
          "output_type": "stream",
          "name": "stdout",
          "text": [
            "Overwriting statist_opponent.py\n"
          ]
        }
      ]
    },
    {
      "cell_type": "markdown",
      "source": [
        "Агент #8 который статистично оценивает какое у оппонента наиболее редкое действие за весь период игры и ставит всегда выйгрышное действие против него"
      ],
      "metadata": {
        "id": "3U0LjC-rp7jB"
      }
    },
    {
      "cell_type": "code",
      "source": [
        "%%writefile minstatist_opponent.py\n",
        "#0 - rock\n",
        "#1 - paper\n",
        "#2 - scissors\n",
        "import random\n",
        "stat={0:0,1:0,2:0}\n",
        "def minstatist(observation, configuration):\n",
        "  global stat\n",
        "  if observation.step > 0:\n",
        "    stat[observation.lastOpponentAction]=stat.get(observation.lastOpponentAction,0)+1\n",
        "    k=[stat[0],stat[1],stat[2]]\n",
        "    if min(k)==0:\n",
        "      return 1\n",
        "    if min(k)==1:\n",
        "      return 2\n",
        "    if min(k)==2:\n",
        "      return 0\n",
        "  else:\n",
        "    return random.randrange(0, configuration.signs)"
      ],
      "metadata": {
        "colab": {
          "base_uri": "https://localhost:8080/"
        },
        "id": "IfgCci8irAzV",
        "outputId": "db16d94f-fed4-4ed5-9f81-6771c31ef6ae"
      },
      "execution_count": 341,
      "outputs": [
        {
          "output_type": "stream",
          "name": "stdout",
          "text": [
            "Overwriting minstatist_opponent.py\n"
          ]
        }
      ]
    },
    {
      "cell_type": "markdown",
      "source": [
        "Агент #9 рандомный агент"
      ],
      "metadata": {
        "id": "gSEjGmM_XmWP"
      }
    },
    {
      "cell_type": "code",
      "source": [
        "%%writefile random_agent.py\n",
        "\n",
        "import random\n",
        "#0 - rock\n",
        "#1 - paper\n",
        "#2 - scissors\n",
        "def your_agent(observation, configuration):\n",
        "    return random.randrange(0, configuration.signs)"
      ],
      "metadata": {
        "colab": {
          "base_uri": "https://localhost:8080/"
        },
        "id": "nUPKsfnXXxJG",
        "outputId": "132f04a9-43dd-4501-d831-197c76517c1e"
      },
      "execution_count": 342,
      "outputs": [
        {
          "output_type": "stream",
          "name": "stdout",
          "text": [
            "Overwriting random_agent.py\n"
          ]
        }
      ]
    },
    {
      "cell_type": "markdown",
      "source": [
        "Агент #10 рандомный агент камень бумага"
      ],
      "metadata": {
        "id": "onFdTOMYYZS0"
      }
    },
    {
      "cell_type": "code",
      "source": [
        "%%writefile randomRP_agent.py\n",
        "\n",
        "import random\n",
        "#0 - rock\n",
        "#1 - paper\n",
        "#2 - scissors\n",
        "def your_agent(observation, configuration):\n",
        "    return random.randint(0, 1)"
      ],
      "metadata": {
        "colab": {
          "base_uri": "https://localhost:8080/"
        },
        "id": "ffBBLSmZYhAs",
        "outputId": "ac5f52c4-1447-43c6-d032-a81d00dd3afc"
      },
      "execution_count": 343,
      "outputs": [
        {
          "output_type": "stream",
          "name": "stdout",
          "text": [
            "Overwriting randomRP_agent.py\n"
          ]
        }
      ]
    },
    {
      "cell_type": "markdown",
      "source": [
        "Агент #11 рандомный агент камень бумага"
      ],
      "metadata": {
        "id": "ZoA4gO_rYxH_"
      }
    },
    {
      "cell_type": "code",
      "source": [
        "%%writefile randomPS_agent.py\n",
        "\n",
        "import random\n",
        "#0 - rock\n",
        "#1 - paper\n",
        "#2 - scissors\n",
        "def your_agent(observation, configuration):\n",
        "    return random.randint(1, 2)"
      ],
      "metadata": {
        "colab": {
          "base_uri": "https://localhost:8080/"
        },
        "id": "LsQjRKy3Yxqy",
        "outputId": "27b6d48f-626b-47d8-d909-18267fad45bb"
      },
      "execution_count": 344,
      "outputs": [
        {
          "output_type": "stream",
          "name": "stdout",
          "text": [
            "Overwriting randomPS_agent.py\n"
          ]
        }
      ]
    },
    {
      "cell_type": "markdown",
      "source": [
        "Агент #12 рандомный агент камень ножницы"
      ],
      "metadata": {
        "id": "V345CYCHaqd3"
      }
    },
    {
      "cell_type": "code",
      "source": [
        "%%writefile randomRS_agent.py\n",
        "\n",
        "import random\n",
        "#0 - rock\n",
        "#1 - paper\n",
        "#2 - scissors\n",
        "def your_agent(observation, configuration):\n",
        "    return 2*random.randint(0, 1)"
      ],
      "metadata": {
        "colab": {
          "base_uri": "https://localhost:8080/"
        },
        "id": "BC2UacbYaykb",
        "outputId": "a5b1dc06-db09-41d8-ebdc-2d940e848cb4"
      },
      "execution_count": 345,
      "outputs": [
        {
          "output_type": "stream",
          "name": "stdout",
          "text": [
            "Overwriting randomRS_agent.py\n"
          ]
        }
      ]
    },
    {
      "cell_type": "markdown",
      "source": [
        "Создадим список всех агентов"
      ],
      "metadata": {
        "id": "o_39udGQgtBT"
      }
    },
    {
      "cell_type": "code",
      "source": [
        "agents=[\"rock_agent.py\", \"scissors_agent.py\", \"paper_agent.py\", \"copy_opponent.py\", \"wincopy_opponent.py\", \"losscopy_opponent.py\", 'statist_opponent.py', 'minstatist_opponent.py', 'random_agent.py', 'randomRP_agent.py', 'randomPS_agent.py', 'randomRS_agent.py']"
      ],
      "metadata": {
        "id": "9r8vSaOJg6cm"
      },
      "execution_count": 346,
      "outputs": []
    },
    {
      "cell_type": "markdown",
      "source": [
        "Создадим пустой список для подсчета очков"
      ],
      "metadata": {
        "id": "d6oGEyNehebz"
      }
    },
    {
      "cell_type": "code",
      "source": [
        "scores=[0 for x in range(12)]\n"
      ],
      "metadata": {
        "id": "ZUOTW_CmhpRp"
      },
      "execution_count": 347,
      "outputs": []
    },
    {
      "cell_type": "markdown",
      "source": [
        "Создадим пустую таблицу для занесения результатов персональных дуэлей"
      ],
      "metadata": {
        "id": "THHe3GmYVUxp"
      }
    },
    {
      "cell_type": "code",
      "source": [
        "table=[scores for x in range(12)]\n"
      ],
      "metadata": {
        "id": "k-MKy5sxVhd2"
      },
      "execution_count": 348,
      "outputs": []
    },
    {
      "cell_type": "code",
      "source": [
        "df = pd.DataFrame(table, agents, agents)\n",
        "\n"
      ],
      "metadata": {
        "id": "X8_8RhJamBTg"
      },
      "execution_count": 349,
      "outputs": []
    },
    {
      "cell_type": "code",
      "source": [
        "for i in range(len(agents)):\n",
        "  for j in range(i+1, len(agents)):\n",
        "    result=evaluate(\"rps\", [agents[i], agents[j]], configuration={\"episodeSteps\": 100})\n",
        "    df[agents[i]][agents[j]]=result[0][0]\n",
        "    df[agents[j]][agents[i]]=result[0][1]  "
      ],
      "metadata": {
        "id": "elwsLND0h430"
      },
      "execution_count": 350,
      "outputs": []
    },
    {
      "cell_type": "markdown",
      "source": [
        "Таблица соревнований (в столбцах указан результат для участника (наименования столбца)). Для удобства добавлена строка Total с итоговым результатом для каждого участника."
      ],
      "metadata": {
        "id": "OHlfINZMogah"
      }
    },
    {
      "cell_type": "code",
      "source": [
        "df.loc['Total']=[0 for x in range(12)]\n",
        "for i in agents:\n",
        "  df.loc['Total', i]=df[i].sum()\n",
        "df\n"
      ],
      "metadata": {
        "colab": {
          "base_uri": "https://localhost:8080/",
          "height": 521
        },
        "id": "jp9ImsksrIcC",
        "outputId": "425e05b1-66d7-4232-d613-c1ee54081dc7"
      },
      "execution_count": 351,
      "outputs": [
        {
          "output_type": "execute_result",
          "data": {
            "text/plain": [
              "                        rock_agent.py  scissors_agent.py  paper_agent.py  \\\n",
              "rock_agent.py                       0                -99              99   \n",
              "scissors_agent.py                  99                  0             -99   \n",
              "paper_agent.py                    -99                 99               0   \n",
              "copy_opponent.py                    0                  0               0   \n",
              "wincopy_opponent.py               -99                -98             -99   \n",
              "losscopy_opponent.py               97                 98              98   \n",
              "statist_opponent.py                 0                -97              95   \n",
              "minstatist_opponent.py            -99                 97               0   \n",
              "random_agent.py                     0                  0               0   \n",
              "randomRP_agent.py                 -48                  0              58   \n",
              "randomPS_agent.py                   0                 53             -46   \n",
              "randomRS_agent.py                  52                -55               0   \n",
              "Total                             -97                 -2             106   \n",
              "\n",
              "                        copy_opponent.py  wincopy_opponent.py  \\\n",
              "rock_agent.py                          0                   99   \n",
              "scissors_agent.py                      0                   98   \n",
              "paper_agent.py                         0                   99   \n",
              "copy_opponent.py                       0                  -99   \n",
              "wincopy_opponent.py                   99                    0   \n",
              "losscopy_opponent.py                 -99                   99   \n",
              "statist_opponent.py                    0                   94   \n",
              "minstatist_opponent.py                 0                   94   \n",
              "random_agent.py                        0                    0   \n",
              "randomRP_agent.py                      0                   21   \n",
              "randomPS_agent.py                      0                    0   \n",
              "randomRS_agent.py                      0                   23   \n",
              "Total                                  0                  528   \n",
              "\n",
              "                        losscopy_opponent.py  statist_opponent.py  \\\n",
              "rock_agent.py                            -97                    0   \n",
              "scissors_agent.py                        -98                   97   \n",
              "paper_agent.py                           -98                  -95   \n",
              "copy_opponent.py                          99                    0   \n",
              "wincopy_opponent.py                      -99                  -94   \n",
              "losscopy_opponent.py                       0                   95   \n",
              "statist_opponent.py                      -95                    0   \n",
              "minstatist_opponent.py                   -97                  -95   \n",
              "random_agent.py                            0                    0   \n",
              "randomRP_agent.py                        -33                  -51   \n",
              "randomPS_agent.py                          0                    0   \n",
              "randomRS_agent.py                        -26                   50   \n",
              "Total                                   -544                  -93   \n",
              "\n",
              "                        minstatist_opponent.py  random_agent.py  \\\n",
              "rock_agent.py                               99                0   \n",
              "scissors_agent.py                          -97                0   \n",
              "paper_agent.py                               0                0   \n",
              "copy_opponent.py                             0                0   \n",
              "wincopy_opponent.py                        -94                0   \n",
              "losscopy_opponent.py                        97                0   \n",
              "statist_opponent.py                         95                0   \n",
              "minstatist_opponent.py                       0                0   \n",
              "random_agent.py                              0                0   \n",
              "randomRP_agent.py                           38                0   \n",
              "randomPS_agent.py                          -44                0   \n",
              "randomRS_agent.py                            0                0   \n",
              "Total                                       94                0   \n",
              "\n",
              "                        randomRP_agent.py  randomPS_agent.py  \\\n",
              "rock_agent.py                          48                  0   \n",
              "scissors_agent.py                       0                -53   \n",
              "paper_agent.py                        -58                 46   \n",
              "copy_opponent.py                        0                  0   \n",
              "wincopy_opponent.py                   -21                  0   \n",
              "losscopy_opponent.py                   33                  0   \n",
              "statist_opponent.py                    51                  0   \n",
              "minstatist_opponent.py                -38                 44   \n",
              "random_agent.py                         0                  0   \n",
              "randomRP_agent.py                       0                 20   \n",
              "randomPS_agent.py                     -20                  0   \n",
              "randomRS_agent.py                       0                -21   \n",
              "Total                                  -5                 36   \n",
              "\n",
              "                        randomRS_agent.py  \n",
              "rock_agent.py                         -52  \n",
              "scissors_agent.py                      55  \n",
              "paper_agent.py                          0  \n",
              "copy_opponent.py                        0  \n",
              "wincopy_opponent.py                   -23  \n",
              "losscopy_opponent.py                   26  \n",
              "statist_opponent.py                   -50  \n",
              "minstatist_opponent.py                  0  \n",
              "random_agent.py                         0  \n",
              "randomRP_agent.py                       0  \n",
              "randomPS_agent.py                      21  \n",
              "randomRS_agent.py                       0  \n",
              "Total                                 -23  "
            ],
            "text/html": [
              "\n",
              "  <div id=\"df-0e5ec3a8-fec4-4978-9015-788da8aea44c\">\n",
              "    <div class=\"colab-df-container\">\n",
              "      <div>\n",
              "<style scoped>\n",
              "    .dataframe tbody tr th:only-of-type {\n",
              "        vertical-align: middle;\n",
              "    }\n",
              "\n",
              "    .dataframe tbody tr th {\n",
              "        vertical-align: top;\n",
              "    }\n",
              "\n",
              "    .dataframe thead th {\n",
              "        text-align: right;\n",
              "    }\n",
              "</style>\n",
              "<table border=\"1\" class=\"dataframe\">\n",
              "  <thead>\n",
              "    <tr style=\"text-align: right;\">\n",
              "      <th></th>\n",
              "      <th>rock_agent.py</th>\n",
              "      <th>scissors_agent.py</th>\n",
              "      <th>paper_agent.py</th>\n",
              "      <th>copy_opponent.py</th>\n",
              "      <th>wincopy_opponent.py</th>\n",
              "      <th>losscopy_opponent.py</th>\n",
              "      <th>statist_opponent.py</th>\n",
              "      <th>minstatist_opponent.py</th>\n",
              "      <th>random_agent.py</th>\n",
              "      <th>randomRP_agent.py</th>\n",
              "      <th>randomPS_agent.py</th>\n",
              "      <th>randomRS_agent.py</th>\n",
              "    </tr>\n",
              "  </thead>\n",
              "  <tbody>\n",
              "    <tr>\n",
              "      <th>rock_agent.py</th>\n",
              "      <td>0</td>\n",
              "      <td>-99</td>\n",
              "      <td>99</td>\n",
              "      <td>0</td>\n",
              "      <td>99</td>\n",
              "      <td>-97</td>\n",
              "      <td>0</td>\n",
              "      <td>99</td>\n",
              "      <td>0</td>\n",
              "      <td>48</td>\n",
              "      <td>0</td>\n",
              "      <td>-52</td>\n",
              "    </tr>\n",
              "    <tr>\n",
              "      <th>scissors_agent.py</th>\n",
              "      <td>99</td>\n",
              "      <td>0</td>\n",
              "      <td>-99</td>\n",
              "      <td>0</td>\n",
              "      <td>98</td>\n",
              "      <td>-98</td>\n",
              "      <td>97</td>\n",
              "      <td>-97</td>\n",
              "      <td>0</td>\n",
              "      <td>0</td>\n",
              "      <td>-53</td>\n",
              "      <td>55</td>\n",
              "    </tr>\n",
              "    <tr>\n",
              "      <th>paper_agent.py</th>\n",
              "      <td>-99</td>\n",
              "      <td>99</td>\n",
              "      <td>0</td>\n",
              "      <td>0</td>\n",
              "      <td>99</td>\n",
              "      <td>-98</td>\n",
              "      <td>-95</td>\n",
              "      <td>0</td>\n",
              "      <td>0</td>\n",
              "      <td>-58</td>\n",
              "      <td>46</td>\n",
              "      <td>0</td>\n",
              "    </tr>\n",
              "    <tr>\n",
              "      <th>copy_opponent.py</th>\n",
              "      <td>0</td>\n",
              "      <td>0</td>\n",
              "      <td>0</td>\n",
              "      <td>0</td>\n",
              "      <td>-99</td>\n",
              "      <td>99</td>\n",
              "      <td>0</td>\n",
              "      <td>0</td>\n",
              "      <td>0</td>\n",
              "      <td>0</td>\n",
              "      <td>0</td>\n",
              "      <td>0</td>\n",
              "    </tr>\n",
              "    <tr>\n",
              "      <th>wincopy_opponent.py</th>\n",
              "      <td>-99</td>\n",
              "      <td>-98</td>\n",
              "      <td>-99</td>\n",
              "      <td>99</td>\n",
              "      <td>0</td>\n",
              "      <td>-99</td>\n",
              "      <td>-94</td>\n",
              "      <td>-94</td>\n",
              "      <td>0</td>\n",
              "      <td>-21</td>\n",
              "      <td>0</td>\n",
              "      <td>-23</td>\n",
              "    </tr>\n",
              "    <tr>\n",
              "      <th>losscopy_opponent.py</th>\n",
              "      <td>97</td>\n",
              "      <td>98</td>\n",
              "      <td>98</td>\n",
              "      <td>-99</td>\n",
              "      <td>99</td>\n",
              "      <td>0</td>\n",
              "      <td>95</td>\n",
              "      <td>97</td>\n",
              "      <td>0</td>\n",
              "      <td>33</td>\n",
              "      <td>0</td>\n",
              "      <td>26</td>\n",
              "    </tr>\n",
              "    <tr>\n",
              "      <th>statist_opponent.py</th>\n",
              "      <td>0</td>\n",
              "      <td>-97</td>\n",
              "      <td>95</td>\n",
              "      <td>0</td>\n",
              "      <td>94</td>\n",
              "      <td>-95</td>\n",
              "      <td>0</td>\n",
              "      <td>95</td>\n",
              "      <td>0</td>\n",
              "      <td>51</td>\n",
              "      <td>0</td>\n",
              "      <td>-50</td>\n",
              "    </tr>\n",
              "    <tr>\n",
              "      <th>minstatist_opponent.py</th>\n",
              "      <td>-99</td>\n",
              "      <td>97</td>\n",
              "      <td>0</td>\n",
              "      <td>0</td>\n",
              "      <td>94</td>\n",
              "      <td>-97</td>\n",
              "      <td>-95</td>\n",
              "      <td>0</td>\n",
              "      <td>0</td>\n",
              "      <td>-38</td>\n",
              "      <td>44</td>\n",
              "      <td>0</td>\n",
              "    </tr>\n",
              "    <tr>\n",
              "      <th>random_agent.py</th>\n",
              "      <td>0</td>\n",
              "      <td>0</td>\n",
              "      <td>0</td>\n",
              "      <td>0</td>\n",
              "      <td>0</td>\n",
              "      <td>0</td>\n",
              "      <td>0</td>\n",
              "      <td>0</td>\n",
              "      <td>0</td>\n",
              "      <td>0</td>\n",
              "      <td>0</td>\n",
              "      <td>0</td>\n",
              "    </tr>\n",
              "    <tr>\n",
              "      <th>randomRP_agent.py</th>\n",
              "      <td>-48</td>\n",
              "      <td>0</td>\n",
              "      <td>58</td>\n",
              "      <td>0</td>\n",
              "      <td>21</td>\n",
              "      <td>-33</td>\n",
              "      <td>-51</td>\n",
              "      <td>38</td>\n",
              "      <td>0</td>\n",
              "      <td>0</td>\n",
              "      <td>20</td>\n",
              "      <td>0</td>\n",
              "    </tr>\n",
              "    <tr>\n",
              "      <th>randomPS_agent.py</th>\n",
              "      <td>0</td>\n",
              "      <td>53</td>\n",
              "      <td>-46</td>\n",
              "      <td>0</td>\n",
              "      <td>0</td>\n",
              "      <td>0</td>\n",
              "      <td>0</td>\n",
              "      <td>-44</td>\n",
              "      <td>0</td>\n",
              "      <td>-20</td>\n",
              "      <td>0</td>\n",
              "      <td>21</td>\n",
              "    </tr>\n",
              "    <tr>\n",
              "      <th>randomRS_agent.py</th>\n",
              "      <td>52</td>\n",
              "      <td>-55</td>\n",
              "      <td>0</td>\n",
              "      <td>0</td>\n",
              "      <td>23</td>\n",
              "      <td>-26</td>\n",
              "      <td>50</td>\n",
              "      <td>0</td>\n",
              "      <td>0</td>\n",
              "      <td>0</td>\n",
              "      <td>-21</td>\n",
              "      <td>0</td>\n",
              "    </tr>\n",
              "    <tr>\n",
              "      <th>Total</th>\n",
              "      <td>-97</td>\n",
              "      <td>-2</td>\n",
              "      <td>106</td>\n",
              "      <td>0</td>\n",
              "      <td>528</td>\n",
              "      <td>-544</td>\n",
              "      <td>-93</td>\n",
              "      <td>94</td>\n",
              "      <td>0</td>\n",
              "      <td>-5</td>\n",
              "      <td>36</td>\n",
              "      <td>-23</td>\n",
              "    </tr>\n",
              "  </tbody>\n",
              "</table>\n",
              "</div>\n",
              "      <button class=\"colab-df-convert\" onclick=\"convertToInteractive('df-0e5ec3a8-fec4-4978-9015-788da8aea44c')\"\n",
              "              title=\"Convert this dataframe to an interactive table.\"\n",
              "              style=\"display:none;\">\n",
              "        \n",
              "  <svg xmlns=\"http://www.w3.org/2000/svg\" height=\"24px\"viewBox=\"0 0 24 24\"\n",
              "       width=\"24px\">\n",
              "    <path d=\"M0 0h24v24H0V0z\" fill=\"none\"/>\n",
              "    <path d=\"M18.56 5.44l.94 2.06.94-2.06 2.06-.94-2.06-.94-.94-2.06-.94 2.06-2.06.94zm-11 1L8.5 8.5l.94-2.06 2.06-.94-2.06-.94L8.5 2.5l-.94 2.06-2.06.94zm10 10l.94 2.06.94-2.06 2.06-.94-2.06-.94-.94-2.06-.94 2.06-2.06.94z\"/><path d=\"M17.41 7.96l-1.37-1.37c-.4-.4-.92-.59-1.43-.59-.52 0-1.04.2-1.43.59L10.3 9.45l-7.72 7.72c-.78.78-.78 2.05 0 2.83L4 21.41c.39.39.9.59 1.41.59.51 0 1.02-.2 1.41-.59l7.78-7.78 2.81-2.81c.8-.78.8-2.07 0-2.86zM5.41 20L4 18.59l7.72-7.72 1.47 1.35L5.41 20z\"/>\n",
              "  </svg>\n",
              "      </button>\n",
              "      \n",
              "  <style>\n",
              "    .colab-df-container {\n",
              "      display:flex;\n",
              "      flex-wrap:wrap;\n",
              "      gap: 12px;\n",
              "    }\n",
              "\n",
              "    .colab-df-convert {\n",
              "      background-color: #E8F0FE;\n",
              "      border: none;\n",
              "      border-radius: 50%;\n",
              "      cursor: pointer;\n",
              "      display: none;\n",
              "      fill: #1967D2;\n",
              "      height: 32px;\n",
              "      padding: 0 0 0 0;\n",
              "      width: 32px;\n",
              "    }\n",
              "\n",
              "    .colab-df-convert:hover {\n",
              "      background-color: #E2EBFA;\n",
              "      box-shadow: 0px 1px 2px rgba(60, 64, 67, 0.3), 0px 1px 3px 1px rgba(60, 64, 67, 0.15);\n",
              "      fill: #174EA6;\n",
              "    }\n",
              "\n",
              "    [theme=dark] .colab-df-convert {\n",
              "      background-color: #3B4455;\n",
              "      fill: #D2E3FC;\n",
              "    }\n",
              "\n",
              "    [theme=dark] .colab-df-convert:hover {\n",
              "      background-color: #434B5C;\n",
              "      box-shadow: 0px 1px 3px 1px rgba(0, 0, 0, 0.15);\n",
              "      filter: drop-shadow(0px 1px 2px rgba(0, 0, 0, 0.3));\n",
              "      fill: #FFFFFF;\n",
              "    }\n",
              "  </style>\n",
              "\n",
              "      <script>\n",
              "        const buttonEl =\n",
              "          document.querySelector('#df-0e5ec3a8-fec4-4978-9015-788da8aea44c button.colab-df-convert');\n",
              "        buttonEl.style.display =\n",
              "          google.colab.kernel.accessAllowed ? 'block' : 'none';\n",
              "\n",
              "        async function convertToInteractive(key) {\n",
              "          const element = document.querySelector('#df-0e5ec3a8-fec4-4978-9015-788da8aea44c');\n",
              "          const dataTable =\n",
              "            await google.colab.kernel.invokeFunction('convertToInteractive',\n",
              "                                                     [key], {});\n",
              "          if (!dataTable) return;\n",
              "\n",
              "          const docLinkHtml = 'Like what you see? Visit the ' +\n",
              "            '<a target=\"_blank\" href=https://colab.research.google.com/notebooks/data_table.ipynb>data table notebook</a>'\n",
              "            + ' to learn more about interactive tables.';\n",
              "          element.innerHTML = '';\n",
              "          dataTable['output_type'] = 'display_data';\n",
              "          await google.colab.output.renderOutput(dataTable, element);\n",
              "          const docLink = document.createElement('div');\n",
              "          docLink.innerHTML = docLinkHtml;\n",
              "          element.appendChild(docLink);\n",
              "        }\n",
              "      </script>\n",
              "    </div>\n",
              "  </div>\n",
              "  "
            ]
          },
          "metadata": {},
          "execution_count": 351
        }
      ]
    },
    {
      "cell_type": "markdown",
      "source": [
        "Выводим результаты:"
      ],
      "metadata": {
        "id": "tDUSAqdHc-ds"
      }
    },
    {
      "cell_type": "code",
      "source": [
        "winner=''"
      ],
      "metadata": {
        "id": "mnU6cJUOxuiD"
      },
      "execution_count": 352,
      "outputs": []
    },
    {
      "cell_type": "code",
      "source": [
        "for i in agents:\n",
        "  print(i, ':', df.loc['Total', i])\n",
        "  if df.loc['Total', i]==df.loc['Total'].max():\n",
        "    winner=i"
      ],
      "metadata": {
        "colab": {
          "base_uri": "https://localhost:8080/"
        },
        "id": "fYCcDodcuOZr",
        "outputId": "2eb33f93-de18-4093-d556-4c179044937c"
      },
      "execution_count": 353,
      "outputs": [
        {
          "output_type": "stream",
          "name": "stdout",
          "text": [
            "rock_agent.py : -97\n",
            "scissors_agent.py : -2\n",
            "paper_agent.py : 106\n",
            "copy_opponent.py : 0\n",
            "wincopy_opponent.py : 528\n",
            "losscopy_opponent.py : -544\n",
            "statist_opponent.py : -93\n",
            "minstatist_opponent.py : 94\n",
            "random_agent.py : 0\n",
            "randomRP_agent.py : -5\n",
            "randomPS_agent.py : 36\n",
            "randomRS_agent.py : -23\n"
          ]
        }
      ]
    },
    {
      "cell_type": "markdown",
      "source": [
        "Победитель!"
      ],
      "metadata": {
        "id": "6IuYfkBXyR9w"
      }
    },
    {
      "cell_type": "code",
      "source": [
        "print('Winner:', winner, 'with:' , df.loc['Total', winner])"
      ],
      "metadata": {
        "colab": {
          "base_uri": "https://localhost:8080/"
        },
        "id": "8QSTGrc_xMwq",
        "outputId": "0253ddae-5132-45f8-8ba9-d2bc180a753f"
      },
      "execution_count": 354,
      "outputs": [
        {
          "output_type": "stream",
          "name": "stdout",
          "text": [
            "Winner: wincopy_opponent.py with: 528\n"
          ]
        }
      ]
    },
    {
      "cell_type": "markdown",
      "source": [
        "wincopy_opponent.py всегда выигрывает у первых трех оппонентов и у 6,7,8, из за быстрого подстроения к их стратегии. С рандомными (последними 4 - 50/50 или в небольшой плюс) здесь мало что зависит от его стратегии) Чем задает себе задел на победу!"
      ],
      "metadata": {
        "id": "0Cwtd8QizYsn"
      }
    },
    {
      "cell_type": "code",
      "source": [],
      "metadata": {
        "id": "cARjsugKz5ty"
      },
      "execution_count": null,
      "outputs": []
    }
  ]
}