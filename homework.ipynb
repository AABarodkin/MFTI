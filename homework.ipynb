{
 "cells": [
  {
   "cell_type": "markdown",
   "id": "baad8896",
   "metadata": {},
   "source": [
    "# homework #1"
   ]
  },
  {
   "cell_type": "code",
   "execution_count": 5,
   "id": "0e985d20",
   "metadata": {},
   "outputs": [
    {
     "name": "stdout",
     "output_type": "stream",
     "text": [
      "1289\n"
     ]
    }
   ],
   "source": [
    "def read_data():\n",
    "    data = open('D:\\\\war_peace_processed.txt', 'rt', encoding='utf8').read()\n",
    "    return data.split('\\n')\n",
    "\n",
    "data = read_data()\n",
    "target_word =  'князь'\n",
    "\n",
    "word={}\n",
    "# напишите ваш код ниже\n",
    "for i in data:\n",
    "    word[i]=word.get(i,0)+1\n",
    "print(word[target_word])"
   ]
  },
  {
   "cell_type": "markdown",
   "id": "7f527d86",
   "metadata": {},
   "source": [
    "# homework #2"
   ]
  },
  {
   "cell_type": "code",
   "execution_count": 3,
   "id": "ded4edbe",
   "metadata": {},
   "outputs": [],
   "source": [
    "def read_data():\n",
    "    data = open('C:\\\\Users\\\\Aliaksandr\\\\Downloads\\\\war_peace_processed.txt', 'rt', encoding='utf8').read()\n",
    "    return data.split('\\n')\n",
    "\n",
    "data = read_data()\n",
    "\n",
    "#создадим список с номерами слова [new chapter]\n",
    "\n",
    "chapter_numbering_list=[]\n",
    "for i in range(len(data)):\n",
    "    if data[i] =='[new chapter]':\n",
    "        chapter_numbering_list.append(i)\n",
    "number_of_documents=len(chapter_numbering_list)+1\n",
    "    \n",
    "    "
   ]
  },
  {
   "cell_type": "code",
   "execution_count": 4,
   "id": "688e495a",
   "metadata": {},
   "outputs": [],
   "source": [
    "#список с номерами слова [new chapter] добавим 0 и последним символом номерации\n",
    "\n",
    "list_0=[0]\n",
    "list_end=[len(data)-1]\n",
    "chapter_numbering_list=list_0+chapter_numbering_list+list_end\n"
   ]
  },
  {
   "cell_type": "code",
   "execution_count": 5,
   "id": "d5a51a1c",
   "metadata": {},
   "outputs": [
    {
     "data": {
      "text/plain": [
       "0.1871345029239766"
      ]
     },
     "execution_count": 5,
     "metadata": {},
     "output_type": "execute_result"
    }
   ],
   "source": [
    "# делая срезы в data согласно списка получим наши главы и проверяем в них наличие заданного слова\n",
    "\n",
    "number_of_documents_with_target_word=0\n",
    "target_word =  'анна'\n",
    "for i in range(1,len(chapter_numbering_list),1):\n",
    "    if target_word in data[chapter_numbering_list[i-1]:chapter_numbering_list[i]]:\n",
    "        number_of_documents_with_target_word+=1\n",
    "df=number_of_documents_with_target_word/number_of_documents\n",
    "df"
   ]
  },
  {
   "cell_type": "code",
   "execution_count": 5,
   "id": "4ea2a463",
   "metadata": {},
   "outputs": [
    {
     "name": "stdout",
     "output_type": "stream",
     "text": [
      "32 171\n"
     ]
    }
   ],
   "source": [
    "print(number_of_documents_with_target_word,number_of_documents)"
   ]
  },
  {
   "cell_type": "markdown",
   "id": "15953df3",
   "metadata": {},
   "source": [
    "# homework #3"
   ]
  },
  {
   "cell_type": "code",
   "execution_count": 6,
   "id": "c222ca44",
   "metadata": {},
   "outputs": [],
   "source": [
    "def read_data():\n",
    "    data = open('C:\\\\Users\\\\Aliaksandr\\\\Downloads\\\\war_peace_processed.txt', 'rt', encoding='utf8').read()\n",
    "    return data.split('\\n')\n",
    "\n",
    "data = read_data()"
   ]
  },
  {
   "cell_type": "code",
   "execution_count": 7,
   "id": "43ed6db9",
   "metadata": {},
   "outputs": [],
   "source": [
    "# Напишите программу, которая выведет частоту употребления заданного слова target_word в заданной главе target_chapter\n",
    "target_word='анна'\n",
    "target_chapter=4"
   ]
  },
  {
   "cell_type": "code",
   "execution_count": 8,
   "id": "47159a42",
   "metadata": {},
   "outputs": [
    {
     "data": {
      "text/plain": [
       "0.006603773584905661"
      ]
     },
     "execution_count": 8,
     "metadata": {},
     "output_type": "execute_result"
    }
   ],
   "source": [
    "# создадим список который будет равен срезу заданной главы\n",
    "chapter=data[chapter_numbering_list[target_chapter]:chapter_numbering_list[target_chapter+1]]\n",
    "tf=chapter.count(target_word)/(len(chapter)-1)\n",
    "tf"
   ]
  },
  {
   "cell_type": "code",
   "execution_count": 9,
   "id": "a61d24f3",
   "metadata": {},
   "outputs": [
    {
     "name": "stdout",
     "output_type": "stream",
     "text": [
      "7 1060 0.006603773584905661\n"
     ]
    }
   ],
   "source": [
    "print(chapter.count(target_word),len(chapter)-1,tf)"
   ]
  },
  {
   "cell_type": "markdown",
   "id": "17be1e0f",
   "metadata": {},
   "source": [
    "# homework #4"
   ]
  },
  {
   "cell_type": "code",
   "execution_count": 10,
   "id": "0d2228b4",
   "metadata": {},
   "outputs": [],
   "source": [
    "def read_data():\n",
    "    data = open('C:\\\\Users\\\\Aliaksandr\\\\Downloads\\\\war_peace_processed.txt', 'rt', encoding='utf8').read()\n",
    "    return data.split('\\n')\n",
    "\n",
    "data = read_data()"
   ]
  },
  {
   "cell_type": "code",
   "execution_count": 11,
   "id": "9ecc966f",
   "metadata": {},
   "outputs": [],
   "source": [
    "#Напишите программу, которая выведет значение tf*idf для заданного слова target_word в заданной главе target_chapter\n",
    "import math\n",
    "target_word='анна'\n",
    "target_chapter=4\n",
    "\n",
    "chapter_numbering_list=[]\n",
    "for i in range(len(data)):\n",
    "    if data[i] =='[new chapter]':\n",
    "        chapter_numbering_list.append(i)\n",
    "number_of_documents=len(chapter_numbering_list)+1\n",
    "\n",
    "list_0=[0]\n",
    "list_end=[len(data)-1]\n",
    "chapter_numbering_list=list_0+chapter_numbering_list+list_end\n",
    "\n",
    "number_of_documents_with_target_word=0\n",
    "\n",
    "for i in range(1,len(chapter_numbering_list),1):\n",
    "    if target_word in data[chapter_numbering_list[i-1]:chapter_numbering_list[i]]:\n",
    "        number_of_documents_with_target_word+=1\n",
    "df=number_of_documents_with_target_word/number_of_documents\n",
    "\n",
    "chapter=data[chapter_numbering_list[target_chapter]:chapter_numbering_list[target_chapter+1]]\n",
    "tf=chapter.count(target_word)/(len(chapter)-1)\n",
    "\n",
    "tf_idf=math.log(1+tf) * math.log(1 / df)\n",
    "\n",
    "\n"
   ]
  },
  {
   "cell_type": "code",
   "execution_count": 12,
   "id": "77959bb7",
   "metadata": {},
   "outputs": [
    {
     "data": {
      "text/plain": [
       "0.011031063403921838"
      ]
     },
     "execution_count": 12,
     "metadata": {},
     "output_type": "execute_result"
    }
   ],
   "source": [
    "tf_idf"
   ]
  },
  {
   "cell_type": "code",
   "execution_count": 13,
   "id": "fb33900a",
   "metadata": {},
   "outputs": [
    {
     "data": {
      "text/plain": [
       "32"
      ]
     },
     "execution_count": 13,
     "metadata": {},
     "output_type": "execute_result"
    }
   ],
   "source": [
    "number_of_documents_with_target_word"
   ]
  },
  {
   "cell_type": "markdown",
   "id": "c0dfa688",
   "metadata": {},
   "source": [
    "# homework#5\n"
   ]
  },
  {
   "cell_type": "code",
   "execution_count": 2,
   "id": "d9e84ef0",
   "metadata": {},
   "outputs": [
    {
     "name": "stdout",
     "output_type": "stream",
     "text": [
      "4\n",
      "павловна анна прядильной\n"
     ]
    }
   ],
   "source": [
    "import math\n",
    "\n",
    "def read_data():\n",
    "    data = open('C:\\\\Users\\\\Aliaksandr\\\\Downloads\\\\war_peace_processed.txt', 'rt', encoding='utf8').read()\n",
    "    return data.split('\\n')\n",
    "\n",
    "data = read_data()\n",
    "\n",
    "#список с номерами слова [new chapter] добавим 0 и последним символом номерации\n",
    "chapter_numbering_list=[]\n",
    "for i in range(len(data)):\n",
    "    if data[i] =='[new chapter]':\n",
    "        chapter_numbering_list.append(i)\n",
    "number_of_documents=len(chapter_numbering_list)+1\n",
    "\n",
    "list_0=[0]\n",
    "list_end=[len(data)-1]\n",
    "chapter_numbering_list=list_0+chapter_numbering_list+list_end\n",
    "\n",
    "target_chapter=int(input())\n",
    "\n",
    "chapter_word_set=set(data[chapter_numbering_list[target_chapter]:chapter_numbering_list[target_chapter+1]])\n",
    "result=[]\n",
    "for word in chapter_word_set:\n",
    "    target_word=word\n",
    "    number_of_documents_with_target_word=0\n",
    "    for i in range(1,len(chapter_numbering_list),1):\n",
    "        if target_word in data[chapter_numbering_list[i-1]:chapter_numbering_list[i]]:\n",
    "            number_of_documents_with_target_word+=1\n",
    "    df=number_of_documents_with_target_word/number_of_documents\n",
    "    chapter=data[chapter_numbering_list[target_chapter]:chapter_numbering_list[target_chapter+1]]\n",
    "    tf=chapter.count(target_word)/(len(chapter)-1)\n",
    "    tf_idf=math.log(1+tf) * math.log(1 / df)\n",
    "    result.append([word,tf_idf])\n",
    "\n",
    "result.sort(key = lambda x: x[1])\n",
    "print(result[-1][0],result[-2][0],result[-3][0])"
   ]
  }
 ],
 "metadata": {
  "kernelspec": {
   "display_name": "Python 3 (ipykernel)",
   "language": "python",
   "name": "python3"
  },
  "language_info": {
   "codemirror_mode": {
    "name": "ipython",
    "version": 3
   },
   "file_extension": ".py",
   "mimetype": "text/x-python",
   "name": "python",
   "nbconvert_exporter": "python",
   "pygments_lexer": "ipython3",
   "version": "3.9.7"
  }
 },
 "nbformat": 4,
 "nbformat_minor": 5
}
