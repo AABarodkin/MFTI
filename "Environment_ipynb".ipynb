{
  "nbformat": 4,
  "nbformat_minor": 0,
  "metadata": {
    "colab": {
      "provenance": [],
      "collapsed_sections": [],
      "include_colab_link": true
    },
    "kernelspec": {
      "name": "python3",
      "display_name": "Python 3"
    },
    "language_info": {
      "name": "python"
    }
  },
  "cells": [
    {
      "cell_type": "markdown",
      "metadata": {
        "id": "view-in-github",
        "colab_type": "text"
      },
      "source": [
        "<a href=\"https://colab.research.google.com/github/AABarodkin/python_mftids22/blob/main/%22Environment_ipynb%22.ipynb\" target=\"_parent\"><img src=\"https://colab.research.google.com/assets/colab-badge.svg\" alt=\"Open In Colab\"/></a>"
      ]
    },
    {
      "cell_type": "code",
      "execution_count": 1,
      "metadata": {
        "id": "MXXTuy_o0sjk",
        "colab": {
          "base_uri": "https://localhost:8080/"
        },
        "outputId": "4344e0cd-b332-48e7-8f23-42d691eb2a20"
      },
      "outputs": [
        {
          "output_type": "stream",
          "name": "stdout",
          "text": [
            "\u001b[K     |████████████████████████████████| 1.9 MB 5.3 MB/s \n",
            "\u001b[K     |████████████████████████████████| 62 kB 1.2 MB/s \n",
            "\u001b[?25h"
          ]
        }
      ],
      "source": [
        "!pip install -q -U kaggle_environments"
      ]
    },
    {
      "cell_type": "code",
      "source": [
        "import numpy as np\n",
        "import pandas as pd\n",
        "import random\n",
        "\n",
        "import matplotlib.pyplot as plt\n",
        "import seaborn as sns\n",
        "\n",
        "from kaggle_environments import make, evaluate"
      ],
      "metadata": {
        "id": "yz23vWHD0wcj"
      },
      "execution_count": 46,
      "outputs": []
    },
    {
      "cell_type": "markdown",
      "source": [
        "Агент#1 который всегда камень"
      ],
      "metadata": {
        "id": "0kuo6IOxiRub"
      }
    },
    {
      "cell_type": "code",
      "source": [
        "%%writefile rock_agent.py\n",
        "\n",
        "\n",
        "#0 - rock\n",
        "#1 - paper\n",
        "#2 - scissors\n",
        "def your_agent(observation, configuration):\n",
        "    return 0"
      ],
      "metadata": {
        "id": "bqTqV7B92rJ6",
        "colab": {
          "base_uri": "https://localhost:8080/"
        },
        "outputId": "1f032193-9f9f-4b0b-b067-8cd96cf995a7"
      },
      "execution_count": 47,
      "outputs": [
        {
          "output_type": "stream",
          "name": "stdout",
          "text": [
            "Overwriting rock_agent.py\n"
          ]
        }
      ]
    },
    {
      "cell_type": "markdown",
      "source": [
        "\n",
        "Агент#2 который всегда ножницы"
      ],
      "metadata": {
        "id": "2A96jkFkcLiL"
      }
    },
    {
      "cell_type": "code",
      "source": [
        "%%writefile scissors_agent.py\n",
        "\n",
        "\n",
        "#0 - rock\n",
        "#1 - paper\n",
        "#2 - scissors\n",
        "def your_agent(observation, configuration):\n",
        "    return 2"
      ],
      "metadata": {
        "colab": {
          "base_uri": "https://localhost:8080/"
        },
        "outputId": "9e2e5557-8405-4a99-e9bf-f7a91de37fb8",
        "id": "lbWzPYjAcZxa"
      },
      "execution_count": 48,
      "outputs": [
        {
          "output_type": "stream",
          "name": "stdout",
          "text": [
            "Overwriting scissors_agent.py\n"
          ]
        }
      ]
    },
    {
      "cell_type": "markdown",
      "source": [
        "Агент#3 котрый всегда бумага"
      ],
      "metadata": {
        "id": "ykR5C9dNciKN"
      }
    },
    {
      "cell_type": "code",
      "source": [
        "%%writefile paper_agent.py\n",
        "\n",
        "\n",
        "#0 - rock\n",
        "#1 - paper\n",
        "#2 - scissors\n",
        "def your_agent(observation, configuration):\n",
        "    return 1"
      ],
      "metadata": {
        "colab": {
          "base_uri": "https://localhost:8080/"
        },
        "id": "a-OVgVXGcnM2",
        "outputId": "447cd1d5-5d74-4386-de0d-983666a627ec"
      },
      "execution_count": 49,
      "outputs": [
        {
          "output_type": "stream",
          "name": "stdout",
          "text": [
            "Overwriting paper_agent.py\n"
          ]
        }
      ]
    },
    {
      "cell_type": "markdown",
      "source": [
        "Агент#4, который производит то же самое действие, что и оппонент на прошлом ходу"
      ],
      "metadata": {
        "id": "et1J5hUGigeh"
      }
    },
    {
      "cell_type": "code",
      "source": [
        "%%writefile copy_opponent.py\n",
        "\n",
        "import random\n",
        "def copy_opponent(observation, configuration):\n",
        "\n",
        "    if observation.step > 0:\n",
        "        return observation.lastOpponentAction\n",
        "    #initial step\n",
        "    else:\n",
        "        return random.randrange(0, configuration.signs)"
      ],
      "metadata": {
        "id": "7l6Ttw6qi0jk",
        "colab": {
          "base_uri": "https://localhost:8080/"
        },
        "outputId": "3dfc7242-4a64-45c9-a478-14bc29b2c4fc"
      },
      "execution_count": 50,
      "outputs": [
        {
          "output_type": "stream",
          "name": "stdout",
          "text": [
            "Overwriting copy_opponent.py\n"
          ]
        }
      ]
    },
    {
      "cell_type": "markdown",
      "source": [
        "Агент#5 который делает победное действие прошлого хода оппонента"
      ],
      "metadata": {
        "id": "Kzfsn1CAdW0N"
      }
    },
    {
      "cell_type": "code",
      "source": [
        "%%writefile wincopy_opponent.py\n",
        "\n",
        "import random\n",
        "def wincopy_opponent(observation, configuration):\n",
        "\n",
        "    if observation.step > 0:\n",
        "      if observation.lastOpponentAction==0:\n",
        "        return 1\n",
        "      if observation.lastOpponentAction==1:\n",
        "        return 2\n",
        "      if observation.lastOpponentAction==2:\n",
        "        return 0\n",
        "    else:\n",
        "        return random.randrange(0, configuration.signs)"
      ],
      "metadata": {
        "colab": {
          "base_uri": "https://localhost:8080/"
        },
        "id": "PgQAGrXTdVh0",
        "outputId": "f3cf8841-e8c6-47f4-e20f-fefde16eccaa"
      },
      "execution_count": 51,
      "outputs": [
        {
          "output_type": "stream",
          "name": "stdout",
          "text": [
            "Overwriting wincopy_opponent.py\n"
          ]
        }
      ]
    },
    {
      "cell_type": "markdown",
      "source": [
        "Агент #6 который делает проигрошное действие прошлого хода оппонента"
      ],
      "metadata": {
        "id": "12KUbyvbeYWK"
      }
    },
    {
      "cell_type": "code",
      "source": [
        "%%writefile losscopy_opponent.py\n",
        "#0 - rock\n",
        "#1 - paper\n",
        "#2 - scissors\n",
        "import random\n",
        "def losscopy_opponent(observation, configuration):\n",
        "\n",
        "    if observation.step > 0:\n",
        "      if observation.lastOpponentAction==0:\n",
        "        return 2\n",
        "      if observation.lastOpponentAction==1:\n",
        "        return 0\n",
        "      if observation.lastOpponentAction==2:\n",
        "        return 1\n",
        "    else:\n",
        "        return random.randrange(0, configuration.signs)"
      ],
      "metadata": {
        "colab": {
          "base_uri": "https://localhost:8080/"
        },
        "id": "uPi4IkHdehqf",
        "outputId": "791f4f83-5636-4a61-beac-4c1c218bcae9"
      },
      "execution_count": 52,
      "outputs": [
        {
          "output_type": "stream",
          "name": "stdout",
          "text": [
            "Overwriting losscopy_opponent.py\n"
          ]
        }
      ]
    },
    {
      "cell_type": "markdown",
      "source": [
        "Агент #7 который статистично оценивает какое у оппонента наиболее частое действие за весь период игры и ставит всегда выйгрышное действие против него"
      ],
      "metadata": {
        "id": "sMK-YQ9zhJ6i"
      }
    },
    {
      "cell_type": "code",
      "source": [
        "%%writefile statist_opponent.py\n",
        "#0 - rock\n",
        "#1 - paper\n",
        "#2 - scissors\n",
        "import random\n",
        "stat={0:0,1:0,2:0}\n",
        "def statist(observation, configuration):\n",
        "  global stat\n",
        "  if observation.step > 0:\n",
        "    stat[observation.lastOpponentAction]=stat.get(observation.lastOpponentAction,0)+1\n",
        "    k=[stat[0],stat[1],stat[2]]\n",
        "    if max(k)==0:\n",
        "      return 1\n",
        "    if max(k)==1:\n",
        "      return 2\n",
        "    if max(k)==2:\n",
        "      return 0\n",
        "  else:\n",
        "    return random.randrange(0, configuration.signs)"
      ],
      "metadata": {
        "colab": {
          "base_uri": "https://localhost:8080/"
        },
        "id": "uBgv8QLmhKR2",
        "outputId": "f3a82b1e-1439-4128-f210-bd8c870721d6"
      },
      "execution_count": 53,
      "outputs": [
        {
          "output_type": "stream",
          "name": "stdout",
          "text": [
            "Overwriting statist_opponent.py\n"
          ]
        }
      ]
    },
    {
      "cell_type": "markdown",
      "source": [
        "Агент #8 который статистично оценивает какое у оппонента наиболее редкое действие за весь период игры и ставит всегда выйгрышное действие против него"
      ],
      "metadata": {
        "id": "3U0LjC-rp7jB"
      }
    },
    {
      "cell_type": "code",
      "source": [
        "%%writefile minstatist_opponent.py\n",
        "#0 - rock\n",
        "#1 - paper\n",
        "#2 - scissors\n",
        "import random\n",
        "stat={0:0,1:0,2:0}\n",
        "def minstatist(observation, configuration):\n",
        "  global stat\n",
        "  if observation.step > 0:\n",
        "    stat[observation.lastOpponentAction]=stat.get(observation.lastOpponentAction,0)+1\n",
        "    k=[stat[0],stat[1],stat[2]]\n",
        "    if min(k)==0:\n",
        "      return 1\n",
        "    if min(k)==1:\n",
        "      return 2\n",
        "    if min(k)==2:\n",
        "      return 0\n",
        "  else:\n",
        "    return random.randrange(0, configuration.signs)"
      ],
      "metadata": {
        "colab": {
          "base_uri": "https://localhost:8080/"
        },
        "id": "IfgCci8irAzV",
        "outputId": "d8dd3e76-112b-42d2-900a-780cebee89ef"
      },
      "execution_count": 54,
      "outputs": [
        {
          "output_type": "stream",
          "name": "stdout",
          "text": [
            "Writing minstatist_opponent.py\n"
          ]
        }
      ]
    },
    {
      "cell_type": "markdown",
      "source": [
        "Создадим список всех агентов"
      ],
      "metadata": {
        "id": "o_39udGQgtBT"
      }
    },
    {
      "cell_type": "code",
      "source": [
        "agents=[\"rock_agent.py\", \"scissors_agent.py\", \"paper_agent.py\", \"copy_opponent.py\", \"wincopy_opponent.py\", \"losscopy_opponent.py\", 'statist_opponent.py', 'minstatist_opponent.py' ]"
      ],
      "metadata": {
        "id": "9r8vSaOJg6cm"
      },
      "execution_count": 55,
      "outputs": []
    },
    {
      "cell_type": "markdown",
      "source": [
        "Создадим пустой список для очков"
      ],
      "metadata": {
        "id": "d6oGEyNehebz"
      }
    },
    {
      "cell_type": "code",
      "source": [
        "scores=[0 for x in range(8)]\n"
      ],
      "metadata": {
        "id": "ZUOTW_CmhpRp"
      },
      "execution_count": 56,
      "outputs": []
    },
    {
      "cell_type": "code",
      "source": [
        "for i in range(len(agents)):\n",
        "  for j in range(i+1, len(agents)):\n",
        "    result=evaluate(\"rps\", [agents[i], agents[j]], configuration={\"episodeSteps\": 100})\n",
        "\n",
        "    scores[agents.index(agents[i])]+=result[0][0]\n",
        "    scores[agents.index(agents[j])]+=result[0][1]\n",
        "\n",
        "    \n"
      ],
      "metadata": {
        "id": "elwsLND0h430"
      },
      "execution_count": 57,
      "outputs": []
    },
    {
      "cell_type": "markdown",
      "source": [
        "Выводим результаты"
      ],
      "metadata": {
        "id": "tDUSAqdHc-ds"
      }
    },
    {
      "cell_type": "code",
      "source": [
        "print('Winner: ', agents[scores.index(max(scores))], ' with' , max(scores))\n",
        "print('summary table:')\n",
        "for i in range(len(agents)):\n",
        "  print(agents[i], ':', scores[i])"
      ],
      "metadata": {
        "colab": {
          "base_uri": "https://localhost:8080/"
        },
        "id": "3ULfYOtkc9vh",
        "outputId": "1819850d-fd0b-49ff-e2f6-4c27c000da52"
      },
      "execution_count": 58,
      "outputs": [
        {
          "output_type": "stream",
          "name": "stdout",
          "text": [
            "Winner:  wincopy_opponent.py  with 636.0\n",
            "summary table:\n",
            "rock_agent.py : -99.0\n",
            "scissors_agent.py : -2.0\n",
            "paper_agent.py : 96.0\n",
            "copy_opponent.py : 0.0\n",
            "wincopy_opponent.py : 636.0\n",
            "losscopy_opponent.py : -631.0\n",
            "statist_opponent.py : -93.0\n",
            "minstatist_opponent.py : 93.0\n"
          ]
        }
      ]
    }
  ]
}