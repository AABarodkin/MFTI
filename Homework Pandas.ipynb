{
 "cells": [
  {
   "cell_type": "markdown",
   "id": "4544212c",
   "metadata": {},
   "source": [
    "## Homework Pandas"
   ]
  },
  {
   "cell_type": "markdown",
   "id": "a8616dcf",
   "metadata": {},
   "source": [
    "### ЗАДАЧА\n",
    " - В приложенных файлах вы увидите данные по прохождению студентами тестов на образовательной платформе. Такие данные могут быть использованы для построения персонализированных ИИ-ассистентов для поддержки обучения студента. На текущем этапе сосредоточимся на начальном этапе — сборе и подготовке данных.\n",
    "\n",
    " \n",
    "\n",
    "### ВАМ НЕОБХОДИМО:\n",
    "- Используя библиотеку pandas (или аналоги), проанализировать как можно больше характеристик, влияющих на успеваемость студентов."
   ]
  },
  {
   "cell_type": "markdown",
   "id": "e725656d",
   "metadata": {},
   "source": [
    "### TRAIN.CSV\n",
    "- row_id: (int64) идентификатор строки.\n",
    "- timestamp: (int64) время в миллисекундах между этим взаимодействием с пользователем и первым завершением события от этого пользователя.\n",
    "- user_id: (int32) ID-код пользователя.\n",
    "- content_id: (int16) ID-код для взаимодействия с пользователем\n",
    "- content_type_id: (int8) 0, если событием был вопрос, заданный пользователю, 1, если событием был просмотр пользователем лекции.\n",
    "- task_container_id: (int16) Идентификационный код для пакета вопросов или лекций. Например, пользователь может увидеть три - вопроса подряд, прежде чем увидит пояснения к любому из них. Все эти трое будут иметь общий идентификатор task_container_id.\n",
    "- user_answer: (int8) ответ пользователя на вопрос, если он есть. Прочитайте -1 как ноль, для лекций.\n",
    "- answer_correctly: (int8), если пользователь ответил правильно. Прочитайте -1 как ноль, для лекций.\n",
    "- Prior_question_elapsed_time: (float32) Среднее время в миллисекундах, которое потребовалось пользователю, чтобы ответить на каждый вопрос в предыдущем наборе вопросов, игнорируя любые промежуточные лекции. Имеет значение null для первого набора вопросов пользователя или лекции. Обратите внимание, что время — это среднее время, затраченное пользователем на решение каждого вопроса в предыдущем наборе.\n",
    "- Prior_question_had_explanation: (bool) Видел ли пользователь объяснение и правильный ответ после ответа на предыдущий набор вопросов, игнорируя любые промежуточные лекции. Это значение является общим для одного пакета вопросов и равно нулю для первого пакета вопросов или лекции пользователя. Обычно первые несколько вопросов, которые видит пользователь, были частью диагностического теста на борту, где они не получали никакой обратной связи."
   ]
  },
  {
   "cell_type": "code",
   "execution_count": 1,
   "id": "03a03016",
   "metadata": {},
   "outputs": [],
   "source": [
    "import pandas as pd"
   ]
  },
  {
   "cell_type": "markdown",
   "id": "25e8b169",
   "metadata": {},
   "source": [
    "### Загрузим данные "
   ]
  },
  {
   "cell_type": "code",
   "execution_count": 2,
   "id": "913f4c5d",
   "metadata": {},
   "outputs": [],
   "source": [
    "tr_data = pd.read_csv('./train.csv')"
   ]
  },
  {
   "cell_type": "code",
   "execution_count": 3,
   "id": "52ec31d7",
   "metadata": {},
   "outputs": [],
   "source": [
    "qu_data = pd.read_csv('./questions.csv')"
   ]
  },
  {
   "cell_type": "code",
   "execution_count": 4,
   "id": "be6e9284",
   "metadata": {},
   "outputs": [],
   "source": [
    "le_data = pd.read_csv('./lectures.csv')"
   ]
  },
  {
   "cell_type": "markdown",
   "id": "907d1397",
   "metadata": {},
   "source": [
    "### Исследуем  данные с файла train.csv"
   ]
  },
  {
   "cell_type": "code",
   "execution_count": 5,
   "id": "c689ebae",
   "metadata": {},
   "outputs": [
    {
     "data": {
      "text/html": [
       "<div>\n",
       "<style scoped>\n",
       "    .dataframe tbody tr th:only-of-type {\n",
       "        vertical-align: middle;\n",
       "    }\n",
       "\n",
       "    .dataframe tbody tr th {\n",
       "        vertical-align: top;\n",
       "    }\n",
       "\n",
       "    .dataframe thead th {\n",
       "        text-align: right;\n",
       "    }\n",
       "</style>\n",
       "<table border=\"1\" class=\"dataframe\">\n",
       "  <thead>\n",
       "    <tr style=\"text-align: right;\">\n",
       "      <th></th>\n",
       "      <th>row_id</th>\n",
       "      <th>timestamp</th>\n",
       "      <th>user_id</th>\n",
       "      <th>content_id</th>\n",
       "      <th>content_type_id</th>\n",
       "      <th>task_container_id</th>\n",
       "      <th>user_answer</th>\n",
       "      <th>answered_correctly</th>\n",
       "      <th>prior_question_elapsed_time</th>\n",
       "      <th>prior_question_had_explanation</th>\n",
       "    </tr>\n",
       "  </thead>\n",
       "  <tbody>\n",
       "    <tr>\n",
       "      <th>0</th>\n",
       "      <td>0</td>\n",
       "      <td>0</td>\n",
       "      <td>115</td>\n",
       "      <td>5692</td>\n",
       "      <td>0</td>\n",
       "      <td>1</td>\n",
       "      <td>3</td>\n",
       "      <td>1</td>\n",
       "      <td>NaN</td>\n",
       "      <td>NaN</td>\n",
       "    </tr>\n",
       "    <tr>\n",
       "      <th>1</th>\n",
       "      <td>1</td>\n",
       "      <td>56943</td>\n",
       "      <td>115</td>\n",
       "      <td>5716</td>\n",
       "      <td>0</td>\n",
       "      <td>2</td>\n",
       "      <td>2</td>\n",
       "      <td>1</td>\n",
       "      <td>37000.0</td>\n",
       "      <td>False</td>\n",
       "    </tr>\n",
       "    <tr>\n",
       "      <th>2</th>\n",
       "      <td>2</td>\n",
       "      <td>118363</td>\n",
       "      <td>115</td>\n",
       "      <td>128</td>\n",
       "      <td>0</td>\n",
       "      <td>0</td>\n",
       "      <td>0</td>\n",
       "      <td>1</td>\n",
       "      <td>55000.0</td>\n",
       "      <td>False</td>\n",
       "    </tr>\n",
       "    <tr>\n",
       "      <th>3</th>\n",
       "      <td>3</td>\n",
       "      <td>131167</td>\n",
       "      <td>115</td>\n",
       "      <td>7860</td>\n",
       "      <td>0</td>\n",
       "      <td>3</td>\n",
       "      <td>0</td>\n",
       "      <td>1</td>\n",
       "      <td>19000.0</td>\n",
       "      <td>False</td>\n",
       "    </tr>\n",
       "    <tr>\n",
       "      <th>4</th>\n",
       "      <td>4</td>\n",
       "      <td>137965</td>\n",
       "      <td>115</td>\n",
       "      <td>7922</td>\n",
       "      <td>0</td>\n",
       "      <td>4</td>\n",
       "      <td>1</td>\n",
       "      <td>1</td>\n",
       "      <td>11000.0</td>\n",
       "      <td>False</td>\n",
       "    </tr>\n",
       "  </tbody>\n",
       "</table>\n",
       "</div>"
      ],
      "text/plain": [
       "   row_id  timestamp  user_id  content_id  content_type_id  task_container_id  \\\n",
       "0       0          0      115        5692                0                  1   \n",
       "1       1      56943      115        5716                0                  2   \n",
       "2       2     118363      115         128                0                  0   \n",
       "3       3     131167      115        7860                0                  3   \n",
       "4       4     137965      115        7922                0                  4   \n",
       "\n",
       "   user_answer  answered_correctly  prior_question_elapsed_time  \\\n",
       "0            3                   1                          NaN   \n",
       "1            2                   1                      37000.0   \n",
       "2            0                   1                      55000.0   \n",
       "3            0                   1                      19000.0   \n",
       "4            1                   1                      11000.0   \n",
       "\n",
       "  prior_question_had_explanation  \n",
       "0                            NaN  \n",
       "1                          False  \n",
       "2                          False  \n",
       "3                          False  \n",
       "4                          False  "
      ]
     },
     "execution_count": 5,
     "metadata": {},
     "output_type": "execute_result"
    }
   ],
   "source": [
    "tr_data.head()"
   ]
  },
  {
   "cell_type": "code",
   "execution_count": 6,
   "id": "c93803c4",
   "metadata": {},
   "outputs": [
    {
     "name": "stdout",
     "output_type": "stream",
     "text": [
      "3 [nan False True]\n"
     ]
    }
   ],
   "source": [
    "print(len(tr_data[\"prior_question_had_explanation\"].unique()), tr_data[\"prior_question_had_explanation\"].unique())"
   ]
  },
  {
   "cell_type": "markdown",
   "id": "9dc81c02",
   "metadata": {},
   "source": [
    "Изменим тип данных tr_data[\"prior_question_had_explanation\"] на boolean, чем сократим их размер"
   ]
  },
  {
   "cell_type": "code",
   "execution_count": 7,
   "id": "bf28b478",
   "metadata": {},
   "outputs": [],
   "source": [
    "tr_data['prior_question_had_explanation'] = tr_data['prior_question_had_explanation'].astype('boolean')"
   ]
  },
  {
   "cell_type": "code",
   "execution_count": 8,
   "id": "218bfd73",
   "metadata": {},
   "outputs": [
    {
     "name": "stdout",
     "output_type": "stream",
     "text": [
      "<class 'pandas.core.frame.DataFrame'>\n",
      "RangeIndex: 101230332 entries, 0 to 101230331\n",
      "Data columns (total 10 columns):\n",
      " #   Column                          Dtype  \n",
      "---  ------                          -----  \n",
      " 0   row_id                          int64  \n",
      " 1   timestamp                       int64  \n",
      " 2   user_id                         int64  \n",
      " 3   content_id                      int64  \n",
      " 4   content_type_id                 int64  \n",
      " 5   task_container_id               int64  \n",
      " 6   user_answer                     int64  \n",
      " 7   answered_correctly              int64  \n",
      " 8   prior_question_elapsed_time     float64\n",
      " 9   prior_question_had_explanation  boolean\n",
      "dtypes: boolean(1), float64(1), int64(8)\n",
      "memory usage: 7.0 GB\n"
     ]
    }
   ],
   "source": [
    "tr_data.info()"
   ]
  },
  {
   "cell_type": "markdown",
   "id": "34a9d3b4",
   "metadata": {},
   "source": [
    "- До:memory usage: 7.5+ GB\n",
    "\n",
    "- После: memory usage: 7.0 GB"
   ]
  },
  {
   "cell_type": "code",
   "execution_count": 9,
   "id": "e3a489e2",
   "metadata": {},
   "outputs": [
    {
     "data": {
      "text/plain": [
       "0    99271300\n",
       "1     1959032\n",
       "Name: content_type_id, dtype: int64"
      ]
     },
     "execution_count": 9,
     "metadata": {},
     "output_type": "execute_result"
    }
   ],
   "source": [
    "tr_data.content_type_id.value_counts()"
   ]
  },
  {
   "cell_type": "code",
   "execution_count": 10,
   "id": "14be8bd0",
   "metadata": {},
   "outputs": [
    {
     "data": {
      "text/html": [
       "<div>\n",
       "<style scoped>\n",
       "    .dataframe tbody tr th:only-of-type {\n",
       "        vertical-align: middle;\n",
       "    }\n",
       "\n",
       "    .dataframe tbody tr th {\n",
       "        vertical-align: top;\n",
       "    }\n",
       "\n",
       "    .dataframe thead th {\n",
       "        text-align: right;\n",
       "    }\n",
       "</style>\n",
       "<table border=\"1\" class=\"dataframe\">\n",
       "  <thead>\n",
       "    <tr style=\"text-align: right;\">\n",
       "      <th></th>\n",
       "      <th>row_id</th>\n",
       "      <th>timestamp</th>\n",
       "      <th>user_id</th>\n",
       "      <th>content_id</th>\n",
       "      <th>content_type_id</th>\n",
       "      <th>task_container_id</th>\n",
       "      <th>user_answer</th>\n",
       "      <th>answered_correctly</th>\n",
       "      <th>prior_question_elapsed_time</th>\n",
       "      <th>prior_question_had_explanation</th>\n",
       "    </tr>\n",
       "  </thead>\n",
       "  <tbody>\n",
       "    <tr>\n",
       "      <th>0</th>\n",
       "      <td>0</td>\n",
       "      <td>0</td>\n",
       "      <td>115</td>\n",
       "      <td>5692</td>\n",
       "      <td>0</td>\n",
       "      <td>1</td>\n",
       "      <td>3</td>\n",
       "      <td>1</td>\n",
       "      <td>NaN</td>\n",
       "      <td>&lt;NA&gt;</td>\n",
       "    </tr>\n",
       "    <tr>\n",
       "      <th>1</th>\n",
       "      <td>1</td>\n",
       "      <td>56943</td>\n",
       "      <td>115</td>\n",
       "      <td>5716</td>\n",
       "      <td>0</td>\n",
       "      <td>2</td>\n",
       "      <td>2</td>\n",
       "      <td>1</td>\n",
       "      <td>37000.0</td>\n",
       "      <td>False</td>\n",
       "    </tr>\n",
       "    <tr>\n",
       "      <th>2</th>\n",
       "      <td>2</td>\n",
       "      <td>118363</td>\n",
       "      <td>115</td>\n",
       "      <td>128</td>\n",
       "      <td>0</td>\n",
       "      <td>0</td>\n",
       "      <td>0</td>\n",
       "      <td>1</td>\n",
       "      <td>55000.0</td>\n",
       "      <td>False</td>\n",
       "    </tr>\n",
       "    <tr>\n",
       "      <th>3</th>\n",
       "      <td>3</td>\n",
       "      <td>131167</td>\n",
       "      <td>115</td>\n",
       "      <td>7860</td>\n",
       "      <td>0</td>\n",
       "      <td>3</td>\n",
       "      <td>0</td>\n",
       "      <td>1</td>\n",
       "      <td>19000.0</td>\n",
       "      <td>False</td>\n",
       "    </tr>\n",
       "    <tr>\n",
       "      <th>4</th>\n",
       "      <td>4</td>\n",
       "      <td>137965</td>\n",
       "      <td>115</td>\n",
       "      <td>7922</td>\n",
       "      <td>0</td>\n",
       "      <td>4</td>\n",
       "      <td>1</td>\n",
       "      <td>1</td>\n",
       "      <td>11000.0</td>\n",
       "      <td>False</td>\n",
       "    </tr>\n",
       "  </tbody>\n",
       "</table>\n",
       "</div>"
      ],
      "text/plain": [
       "   row_id  timestamp  user_id  content_id  content_type_id  task_container_id  \\\n",
       "0       0          0      115        5692                0                  1   \n",
       "1       1      56943      115        5716                0                  2   \n",
       "2       2     118363      115         128                0                  0   \n",
       "3       3     131167      115        7860                0                  3   \n",
       "4       4     137965      115        7922                0                  4   \n",
       "\n",
       "   user_answer  answered_correctly  prior_question_elapsed_time  \\\n",
       "0            3                   1                          NaN   \n",
       "1            2                   1                      37000.0   \n",
       "2            0                   1                      55000.0   \n",
       "3            0                   1                      19000.0   \n",
       "4            1                   1                      11000.0   \n",
       "\n",
       "   prior_question_had_explanation  \n",
       "0                            <NA>  \n",
       "1                           False  \n",
       "2                           False  \n",
       "3                           False  \n",
       "4                           False  "
      ]
     },
     "execution_count": 10,
     "metadata": {},
     "output_type": "execute_result"
    }
   ],
   "source": [
    "tr_data.head()"
   ]
  },
  {
   "cell_type": "markdown",
   "id": "083f7128",
   "metadata": {},
   "source": [
    "Набор данных из train.csv упорядочен по возрастанию user_id и по возрастанию метки времени."
   ]
  },
  {
   "cell_type": "code",
   "execution_count": 11,
   "id": "1571ed46",
   "metadata": {},
   "outputs": [
    {
     "name": "stdout",
     "output_type": "stream",
     "text": [
      "Мы имеем 393656 уникальных пользователей в нашем датасете\n"
     ]
    }
   ],
   "source": [
    "print(f'Мы имеем {tr_data.user_id.nunique()} уникальных пользователей в нашем датасете')"
   ]
  },
  {
   "cell_type": "markdown",
   "id": "bfa1aed5",
   "metadata": {},
   "source": [
    "Content_type_id =  0 означает, что был задан вопрос. 1 означает, что пользователь смотрел лекцию."
   ]
  },
  {
   "cell_type": "code",
   "execution_count": 12,
   "id": "708f72ac",
   "metadata": {},
   "outputs": [
    {
     "data": {
      "text/plain": [
       "0    99271300\n",
       "1     1959032\n",
       "Name: content_type_id, dtype: int64"
      ]
     },
     "execution_count": 12,
     "metadata": {},
     "output_type": "execute_result"
    }
   ],
   "source": [
    "tr_data['content_type_id'].value_counts()"
   ]
  },
  {
   "cell_type": "markdown",
   "id": "9ae3b659",
   "metadata": {},
   "source": [
    "Content_id — это код взаимодействия с пользователем. По сути, это вопросы, если content_type_id — вопрос (question_id: внешний ключ для столбца train/test content_id, когда тип контента — вопрос) или лекции, если content_type_id — лекция (lection_id: внешний ключ для столбца «train/test» content_id, когда тип контента — лекция)"
   ]
  },
  {
   "cell_type": "code",
   "execution_count": 13,
   "id": "5e00065f",
   "metadata": {},
   "outputs": [
    {
     "name": "stdout",
     "output_type": "stream",
     "text": [
      "Мы имеем 13782 content_ids в наших данных,из которых 13523 являются вопросами\n"
     ]
    }
   ],
   "source": [
    "print(f'Мы имеем {tr_data.content_id.nunique()} content_ids в наших данных,\\\n",
    "из которых {tr_data[tr_data.content_type_id == False].content_id.nunique()} являются вопросами')"
   ]
  },
  {
   "cell_type": "code",
   "execution_count": 14,
   "id": "c66f084f",
   "metadata": {},
   "outputs": [
    {
     "data": {
      "image/png": "[encoded data removed]",
      "text/plain": [
       "<Figure size 864x432 with 1 Axes>"
      ]
     },
     "metadata": {
      "needs_background": "light"
     },
     "output_type": "display_data"
    }
   ],
   "source": [
    "import matplotlib.pyplot as plt\n",
    "cids = tr_data.content_id.value_counts().iloc[:30]\n",
    "\n",
    "fig = plt.figure(figsize=(12,6))\n",
    "ax = cids.plot.bar()\n",
    "plt.title(\"Тридцать наиболее часто используемых content_id \")\n",
    "plt.xticks(rotation=90)\n",
    "plt.show()"
   ]
  },
  {
   "cell_type": "markdown",
   "id": "c34bb73d",
   "metadata": {},
   "source": [
    "task_container_id: (int64) Идентификационный код для пакета вопросов или лекций. Например, пользователь может увидеть три вопроса подряд, прежде чем увидит пояснения к любому из них. Все эти трое будут иметь общий идентификатор task_container_id."
   ]
  },
  {
   "cell_type": "code",
   "execution_count": 15,
   "id": "d5384c9a",
   "metadata": {},
   "outputs": [
    {
     "name": "stdout",
     "output_type": "stream",
     "text": [
      "Мы имеем 10000 уникальные пакеты вопросов или лекций.\n"
     ]
    }
   ],
   "source": [
    "print(f'Мы имеем {tr_data.task_container_id.nunique()} уникальные пакеты вопросов или лекций.')"
   ]
  },
  {
   "cell_type": "markdown",
   "id": "e3d932f2",
   "metadata": {},
   "source": [
    "User answer. На первый взгляд вопросы множественного выбора (ответы 0-3). Значение -1  это не ответ, на самом деле означает отсутствие ответа (поскольку взаимодействие было лекцией, а не вопросом)."
   ]
  },
  {
   "cell_type": "code",
   "execution_count": 16,
   "id": "820e6eaa",
   "metadata": {},
   "outputs": [
    {
     "data": {
      "text/plain": [
       " 0    28186489\n",
       " 1    26990007\n",
       " 3    26084784\n",
       " 2    18010020\n",
       "-1     1959032\n",
       "Name: user_answer, dtype: int64"
      ]
     },
     "execution_count": 16,
     "metadata": {},
     "output_type": "execute_result"
    }
   ],
   "source": [
    "tr_data.user_answer.value_counts()"
   ]
  },
  {
   "cell_type": "markdown",
   "id": "370b129e",
   "metadata": {},
   "source": [
    "timestamp: (int64) время в миллисекундах между этим взаимодействием с пользователем и первым завершением события от этого пользователя. Большинство взаимодействий исходят от пользователей, которые не так долго были активны на платформе."
   ]
  },
  {
   "cell_type": "code",
   "execution_count": 17,
   "id": "fbf2919c",
   "metadata": {},
   "outputs": [
    {
     "data": {
      "image/png": "[encoded data removed]",
      "text/plain": [
       "<Figure size 864x432 with 1 Axes>"
      ]
     },
     "metadata": {
      "needs_background": "light"
     },
     "output_type": "display_data"
    }
   ],
   "source": [
    "ts = tr_data['timestamp']/(31536000000/12) #В одном году 31 536 000 000 мс\n",
    "fig = plt.figure(figsize=(12,6))\n",
    "ts.plot.hist(bins=100)\n",
    "plt.title(\"Гистограмма timestamp\")\n",
    "plt.xticks(rotation=0)\n",
    "plt.xlabel(\"Месяцы между этим взаимодействием с пользователем и первым завершением события от этого пользователя\")\n",
    "plt.show()"
   ]
  },
  {
   "cell_type": "markdown",
   "id": "c0ff2508",
   "metadata": {},
   "source": [
    "Зададимся вопросом - Есть ли у нас полная история всех user_id? "
   ]
  },
  {
   "cell_type": "markdown",
   "id": "bd249b6e",
   "metadata": {},
   "source": [
    "Да, если мы отфильтруем tr_data по 'timestamp'== 0, мы получим время 0 для всех пользователей."
   ]
  },
  {
   "cell_type": "code",
   "execution_count": 18,
   "id": "4db6d542",
   "metadata": {},
   "outputs": [
    {
     "name": "stdout",
     "output_type": "stream",
     "text": [
      " Из 393656 пользователей в данных у нас 393656 пользователей с timestamp= 0 \n"
     ]
    }
   ],
   "source": [
    "print(f\" Из {(tr_data['user_id'].nunique())} \\\n",
    "пользователей в данных у нас {(tr_data[tr_data['timestamp'] == 0]).user_id.nunique()} пользователей с timestamp= 0 \")"
   ]
  },
  {
   "cell_type": "markdown",
   "id": "54c1b198",
   "metadata": {},
   "source": [
    "Успеваемость студентов == Answered_correctly, Посмотрим на распределение правильный/неправильный ответ.\n",
    "Не глядя на взаимодействие на лекциях (-1), мы видим, что примерно на 1/3 вопросов были даны неправильные ответы."
   ]
  },
  {
   "cell_type": "code",
   "execution_count": 19,
   "id": "024bee62",
   "metadata": {},
   "outputs": [
    {
     "data": {
      "image/png": "[encoded data removed]",
      "text/plain": [
       "<Figure size 864x288 with 1 Axes>"
      ]
     },
     "metadata": {
      "needs_background": "light"
     },
     "output_type": "display_data"
    }
   ],
   "source": [
    "correct = tr_data[tr_data.answered_correctly != -1].answered_correctly.value_counts(ascending=True)\n",
    "\n",
    "fig = plt.figure(figsize=(12,4))\n",
    "correct.plot.barh()\n",
    "plt.title(\"Вопросы, на которые даны правильные ответы (1) и не правильные ответы (0)\")\n",
    "plt.xticks(rotation=0)\n",
    "plt.show()"
   ]
  },
  {
   "cell_type": "code",
   "execution_count": 20,
   "id": "0eb61906",
   "metadata": {},
   "outputs": [],
   "source": [
    "user_percent = tr_data[tr_data.answered_correctly != -1].groupby('user_id')['answered_correctly'].agg(Mean='mean', Answers='count')"
   ]
  },
  {
   "cell_type": "code",
   "execution_count": 21,
   "id": "02608e26",
   "metadata": {},
   "outputs": [
    {
     "name": "stdout",
     "output_type": "stream",
     "text": [
      "Наибольшее количество вопросов, на которые ответил пользователь 17609\n"
     ]
    }
   ],
   "source": [
    "print(f'Наибольшее количество вопросов, на которые ответил пользователь {user_percent.Answers.max()}')"
   ]
  },
  {
   "cell_type": "markdown",
   "id": "f6bc77f0",
   "metadata": {},
   "source": [
    "### QUESTIONS.CSV: МЕТАДАННЫЕ ДЛЯ ВОПРОСОВ, ЗАДАВАЕМЫХ ПОЛЬЗОВАТЕЛЯМ.\n",
    "- question_id: внешний ключ для столбца train/test content_id, когда тип контента — вопрос (0).\n",
    "- bundle_id: код, для которого вопросы обслуживаются вместе.\n",
    "- correct_answer: ответ на вопрос. Можно сравнить со столбцом train user_answer, чтобы проверить, был ли пользователь прав.\n",
    "- part: соответствующий раздел теста TOEIC.\n",
    "- tags: один или несколько подробных кодов тегов для вопроса. Значение тегов не будет предоставлено, но этих кодов достаточно для группировки вопросов вместе."
   ]
  },
  {
   "cell_type": "markdown",
   "id": "b937060b",
   "metadata": {},
   "source": [
    "### Исследуем  данные с файла questions.csv"
   ]
  },
  {
   "cell_type": "code",
   "execution_count": 20,
   "id": "604c048d",
   "metadata": {},
   "outputs": [
    {
     "data": {
      "text/html": [
       "<div>\n",
       "<style scoped>\n",
       "    .dataframe tbody tr th:only-of-type {\n",
       "        vertical-align: middle;\n",
       "    }\n",
       "\n",
       "    .dataframe tbody tr th {\n",
       "        vertical-align: top;\n",
       "    }\n",
       "\n",
       "    .dataframe thead th {\n",
       "        text-align: right;\n",
       "    }\n",
       "</style>\n",
       "<table border=\"1\" class=\"dataframe\">\n",
       "  <thead>\n",
       "    <tr style=\"text-align: right;\">\n",
       "      <th></th>\n",
       "      <th>question_id</th>\n",
       "      <th>bundle_id</th>\n",
       "      <th>correct_answer</th>\n",
       "      <th>part</th>\n",
       "      <th>tags</th>\n",
       "    </tr>\n",
       "  </thead>\n",
       "  <tbody>\n",
       "    <tr>\n",
       "      <th>0</th>\n",
       "      <td>0</td>\n",
       "      <td>0</td>\n",
       "      <td>0</td>\n",
       "      <td>1</td>\n",
       "      <td>51 131 162 38</td>\n",
       "    </tr>\n",
       "    <tr>\n",
       "      <th>1</th>\n",
       "      <td>1</td>\n",
       "      <td>1</td>\n",
       "      <td>1</td>\n",
       "      <td>1</td>\n",
       "      <td>131 36 81</td>\n",
       "    </tr>\n",
       "    <tr>\n",
       "      <th>2</th>\n",
       "      <td>2</td>\n",
       "      <td>2</td>\n",
       "      <td>0</td>\n",
       "      <td>1</td>\n",
       "      <td>131 101 162 92</td>\n",
       "    </tr>\n",
       "    <tr>\n",
       "      <th>3</th>\n",
       "      <td>3</td>\n",
       "      <td>3</td>\n",
       "      <td>0</td>\n",
       "      <td>1</td>\n",
       "      <td>131 149 162 29</td>\n",
       "    </tr>\n",
       "    <tr>\n",
       "      <th>4</th>\n",
       "      <td>4</td>\n",
       "      <td>4</td>\n",
       "      <td>3</td>\n",
       "      <td>1</td>\n",
       "      <td>131 5 162 38</td>\n",
       "    </tr>\n",
       "  </tbody>\n",
       "</table>\n",
       "</div>"
      ],
      "text/plain": [
       "   question_id  bundle_id  correct_answer  part            tags\n",
       "0            0          0               0     1   51 131 162 38\n",
       "1            1          1               1     1       131 36 81\n",
       "2            2          2               0     1  131 101 162 92\n",
       "3            3          3               0     1  131 149 162 29\n",
       "4            4          4               3     1    131 5 162 38"
      ]
     },
     "execution_count": 20,
     "metadata": {},
     "output_type": "execute_result"
    }
   ],
   "source": [
    "qu_data.head()"
   ]
  },
  {
   "cell_type": "code",
   "execution_count": 21,
   "id": "98904a94",
   "metadata": {},
   "outputs": [
    {
     "name": "stdout",
     "output_type": "stream",
     "text": [
      "<class 'pandas.core.frame.DataFrame'>\n",
      "RangeIndex: 13523 entries, 0 to 13522\n",
      "Data columns (total 5 columns):\n",
      " #   Column          Non-Null Count  Dtype \n",
      "---  ------          --------------  ----- \n",
      " 0   question_id     13523 non-null  int64 \n",
      " 1   bundle_id       13523 non-null  int64 \n",
      " 2   correct_answer  13523 non-null  int64 \n",
      " 3   part            13523 non-null  int64 \n",
      " 4   tags            13522 non-null  object\n",
      "dtypes: int64(4), object(1)\n",
      "memory usage: 528.4+ KB\n"
     ]
    }
   ],
   "source": [
    "qu_data.info()"
   ]
  },
  {
   "cell_type": "code",
   "execution_count": 22,
   "id": "289d8a68",
   "metadata": {},
   "outputs": [
    {
     "data": {
      "text/plain": [
       "(13523, 5)"
      ]
     },
     "execution_count": 22,
     "metadata": {},
     "output_type": "execute_result"
    }
   ],
   "source": [
    "qu_data.shape"
   ]
  },
  {
   "cell_type": "markdown",
   "id": "1c30f711",
   "metadata": {},
   "source": [
    "Проверим, есть ли question_id без тегов. "
   ]
  },
  {
   "cell_type": "code",
   "execution_count": 23,
   "id": "f8225661",
   "metadata": {},
   "outputs": [
    {
     "data": {
      "text/html": [
       "<div>\n",
       "<style scoped>\n",
       "    .dataframe tbody tr th:only-of-type {\n",
       "        vertical-align: middle;\n",
       "    }\n",
       "\n",
       "    .dataframe tbody tr th {\n",
       "        vertical-align: top;\n",
       "    }\n",
       "\n",
       "    .dataframe thead th {\n",
       "        text-align: right;\n",
       "    }\n",
       "</style>\n",
       "<table border=\"1\" class=\"dataframe\">\n",
       "  <thead>\n",
       "    <tr style=\"text-align: right;\">\n",
       "      <th></th>\n",
       "      <th>question_id</th>\n",
       "      <th>bundle_id</th>\n",
       "      <th>correct_answer</th>\n",
       "      <th>part</th>\n",
       "      <th>tags</th>\n",
       "    </tr>\n",
       "  </thead>\n",
       "  <tbody>\n",
       "    <tr>\n",
       "      <th>10033</th>\n",
       "      <td>10033</td>\n",
       "      <td>10033</td>\n",
       "      <td>2</td>\n",
       "      <td>6</td>\n",
       "      <td>NaN</td>\n",
       "    </tr>\n",
       "  </tbody>\n",
       "</table>\n",
       "</div>"
      ],
      "text/plain": [
       "       question_id  bundle_id  correct_answer  part tags\n",
       "10033        10033      10033               2     6  NaN"
      ]
     },
     "execution_count": 23,
     "metadata": {},
     "output_type": "execute_result"
    }
   ],
   "source": [
    "qu_data[qu_data.tags.isna()]"
   ]
  },
  {
   "cell_type": "markdown",
   "id": "2536b2b7",
   "metadata": {},
   "source": [
    "Существует ровно один question_id без хотя бы одного тега."
   ]
  },
  {
   "cell_type": "markdown",
   "id": "056e1672",
   "metadata": {},
   "source": [
    "Рассмотрим tags"
   ]
  },
  {
   "cell_type": "code",
   "execution_count": 24,
   "id": "f972e867",
   "metadata": {},
   "outputs": [
    {
     "name": "stdout",
     "output_type": "stream",
     "text": [
      "У нас 188 разных tags\n"
     ]
    }
   ],
   "source": [
    "qu_data['tags'] = qu_data['tags'].astype(str)\n",
    "\n",
    "tags = [x.split() for x in qu_data[qu_data.tags != \"nan\"].tags.values]\n",
    "tags = [item for elem in tags for item in elem]\n",
    "tags = set(tags)\n",
    "tags = list(tags)\n",
    "print(f'У нас {len(tags)} разных tags')"
   ]
  },
  {
   "cell_type": "markdown",
   "id": "b50016ec",
   "metadata": {},
   "source": [
    "Изменим столбец tags на списки tags для простоты доступа к значениям"
   ]
  },
  {
   "cell_type": "code",
   "execution_count": 25,
   "id": "e30b411a",
   "metadata": {},
   "outputs": [
    {
     "data": {
      "text/html": [
       "<div>\n",
       "<style scoped>\n",
       "    .dataframe tbody tr th:only-of-type {\n",
       "        vertical-align: middle;\n",
       "    }\n",
       "\n",
       "    .dataframe tbody tr th {\n",
       "        vertical-align: top;\n",
       "    }\n",
       "\n",
       "    .dataframe thead th {\n",
       "        text-align: right;\n",
       "    }\n",
       "</style>\n",
       "<table border=\"1\" class=\"dataframe\">\n",
       "  <thead>\n",
       "    <tr style=\"text-align: right;\">\n",
       "      <th></th>\n",
       "      <th>question_id</th>\n",
       "      <th>bundle_id</th>\n",
       "      <th>correct_answer</th>\n",
       "      <th>part</th>\n",
       "      <th>tags</th>\n",
       "    </tr>\n",
       "  </thead>\n",
       "  <tbody>\n",
       "    <tr>\n",
       "      <th>0</th>\n",
       "      <td>0</td>\n",
       "      <td>0</td>\n",
       "      <td>0</td>\n",
       "      <td>1</td>\n",
       "      <td>[51, 131, 162, 38]</td>\n",
       "    </tr>\n",
       "    <tr>\n",
       "      <th>1</th>\n",
       "      <td>1</td>\n",
       "      <td>1</td>\n",
       "      <td>1</td>\n",
       "      <td>1</td>\n",
       "      <td>[131, 36, 81]</td>\n",
       "    </tr>\n",
       "    <tr>\n",
       "      <th>2</th>\n",
       "      <td>2</td>\n",
       "      <td>2</td>\n",
       "      <td>0</td>\n",
       "      <td>1</td>\n",
       "      <td>[131, 101, 162, 92]</td>\n",
       "    </tr>\n",
       "    <tr>\n",
       "      <th>3</th>\n",
       "      <td>3</td>\n",
       "      <td>3</td>\n",
       "      <td>0</td>\n",
       "      <td>1</td>\n",
       "      <td>[131, 149, 162, 29]</td>\n",
       "    </tr>\n",
       "    <tr>\n",
       "      <th>4</th>\n",
       "      <td>4</td>\n",
       "      <td>4</td>\n",
       "      <td>3</td>\n",
       "      <td>1</td>\n",
       "      <td>[131, 5, 162, 38]</td>\n",
       "    </tr>\n",
       "  </tbody>\n",
       "</table>\n",
       "</div>"
      ],
      "text/plain": [
       "   question_id  bundle_id  correct_answer  part                 tags\n",
       "0            0          0               0     1   [51, 131, 162, 38]\n",
       "1            1          1               1     1        [131, 36, 81]\n",
       "2            2          2               0     1  [131, 101, 162, 92]\n",
       "3            3          3               0     1  [131, 149, 162, 29]\n",
       "4            4          4               3     1    [131, 5, 162, 38]"
      ]
     },
     "execution_count": 25,
     "metadata": {},
     "output_type": "execute_result"
    }
   ],
   "source": [
    "tags_list = [x.split() for x in qu_data.tags.values]\n",
    "qu_data['tags'] = tags_list\n",
    "qu_data.head()\n",
    "\n"
   ]
  },
  {
   "cell_type": "markdown",
   "id": "841dc2e2",
   "metadata": {},
   "source": [
    "Давайте выясним, сколько ответов были правильными и неправильными на question_id (то есть на content_id в tr_data)."
   ]
  },
  {
   "cell_type": "code",
   "execution_count": 26,
   "id": "8ac4b797",
   "metadata": {},
   "outputs": [
    {
     "data": {
      "text/html": [
       "<div>\n",
       "<style scoped>\n",
       "    .dataframe tbody tr th:only-of-type {\n",
       "        vertical-align: middle;\n",
       "    }\n",
       "\n",
       "    .dataframe tbody tr th {\n",
       "        vertical-align: top;\n",
       "    }\n",
       "\n",
       "    .dataframe thead th {\n",
       "        text-align: right;\n",
       "    }\n",
       "</style>\n",
       "<table border=\"1\" class=\"dataframe\">\n",
       "  <thead>\n",
       "    <tr style=\"text-align: right;\">\n",
       "      <th></th>\n",
       "      <th>question_id</th>\n",
       "      <th>bundle_id</th>\n",
       "      <th>correct_answer</th>\n",
       "      <th>part</th>\n",
       "      <th>tags</th>\n",
       "      <th>Неверно</th>\n",
       "      <th>Верно</th>\n",
       "    </tr>\n",
       "  </thead>\n",
       "  <tbody>\n",
       "    <tr>\n",
       "      <th>0</th>\n",
       "      <td>0</td>\n",
       "      <td>0</td>\n",
       "      <td>0</td>\n",
       "      <td>1</td>\n",
       "      <td>[51, 131, 162, 38]</td>\n",
       "      <td>637</td>\n",
       "      <td>6266</td>\n",
       "    </tr>\n",
       "    <tr>\n",
       "      <th>1</th>\n",
       "      <td>1</td>\n",
       "      <td>1</td>\n",
       "      <td>1</td>\n",
       "      <td>1</td>\n",
       "      <td>[131, 36, 81]</td>\n",
       "      <td>809</td>\n",
       "      <td>6589</td>\n",
       "    </tr>\n",
       "    <tr>\n",
       "      <th>2</th>\n",
       "      <td>2</td>\n",
       "      <td>2</td>\n",
       "      <td>0</td>\n",
       "      <td>1</td>\n",
       "      <td>[131, 101, 162, 92]</td>\n",
       "      <td>20015</td>\n",
       "      <td>24890</td>\n",
       "    </tr>\n",
       "    <tr>\n",
       "      <th>3</th>\n",
       "      <td>3</td>\n",
       "      <td>3</td>\n",
       "      <td>0</td>\n",
       "      <td>1</td>\n",
       "      <td>[131, 149, 162, 29]</td>\n",
       "      <td>5067</td>\n",
       "      <td>17906</td>\n",
       "    </tr>\n",
       "    <tr>\n",
       "      <th>4</th>\n",
       "      <td>4</td>\n",
       "      <td>4</td>\n",
       "      <td>3</td>\n",
       "      <td>1</td>\n",
       "      <td>[131, 5, 162, 38]</td>\n",
       "      <td>12275</td>\n",
       "      <td>19461</td>\n",
       "    </tr>\n",
       "  </tbody>\n",
       "</table>\n",
       "</div>"
      ],
      "text/plain": [
       "   question_id  bundle_id  correct_answer  part                 tags  Неверно  \\\n",
       "0            0          0               0     1   [51, 131, 162, 38]      637   \n",
       "1            1          1               1     1        [131, 36, 81]      809   \n",
       "2            2          2               0     1  [131, 101, 162, 92]    20015   \n",
       "3            3          3               0     1  [131, 149, 162, 29]     5067   \n",
       "4            4          4               3     1    [131, 5, 162, 38]    12275   \n",
       "\n",
       "   Верно  \n",
       "0   6266  \n",
       "1   6589  \n",
       "2  24890  \n",
       "3  17906  \n",
       "4  19461  "
      ]
     },
     "execution_count": 26,
     "metadata": {},
     "output_type": "execute_result"
    }
   ],
   "source": [
    "#сгрупируем и получим количество\n",
    "correct = tr_data[tr_data.answered_correctly != -1].groupby([\"content_id\", 'answered_correctly'], as_index=False).size()\n",
    "#преобразуем полученный дата фрейм  \n",
    "correct = correct.pivot(index= \"content_id\", columns='answered_correctly', values='size')\n",
    "correct.columns = ['Неверно', 'Верно']\n",
    "correct = correct.fillna(0)\n",
    "correct[['Неверно', 'Верно']] = correct[['Неверно', 'Верно']].astype(int)\n",
    "#обьединим полученный датафрейм с qu_data\n",
    "qu_data = qu_data.merge(correct, left_on = \"question_id\", right_on = \"content_id\", how = \"left\")\n",
    "qu_data.head()"
   ]
  },
  {
   "cell_type": "markdown",
   "id": "a39bef1f",
   "metadata": {},
   "source": [
    "### LECTURES.CSV: МЕТАДАТЫ ЛЕКЦИЙ, ПРОСМОТРЕННЫХ ПОЛЬЗОВАТЕЛЯМИ ПО мере их обучения.\n",
    "- «lection_id»: внешний ключ для столбца «train/test» content_id, когда тип контента — «лекция» (1).\n",
    "- part: код категории верхнего уровня для лекции.\n",
    "- tag: один код тега для лекции. Значение тегов не будет предоставлено, но этих кодов достаточно для группировки лекций.\n",
    "- type_of: краткое описание основной цели лекции."
   ]
  },
  {
   "cell_type": "markdown",
   "id": "88e7ad77",
   "metadata": {},
   "source": [
    "### Исследуем  данные с файла lectures.csv"
   ]
  },
  {
   "cell_type": "code",
   "execution_count": 26,
   "id": "9919ec6d",
   "metadata": {},
   "outputs": [
    {
     "data": {
      "text/html": [
       "<div>\n",
       "<style scoped>\n",
       "    .dataframe tbody tr th:only-of-type {\n",
       "        vertical-align: middle;\n",
       "    }\n",
       "\n",
       "    .dataframe tbody tr th {\n",
       "        vertical-align: top;\n",
       "    }\n",
       "\n",
       "    .dataframe thead th {\n",
       "        text-align: right;\n",
       "    }\n",
       "</style>\n",
       "<table border=\"1\" class=\"dataframe\">\n",
       "  <thead>\n",
       "    <tr style=\"text-align: right;\">\n",
       "      <th></th>\n",
       "      <th>lecture_id</th>\n",
       "      <th>tag</th>\n",
       "      <th>part</th>\n",
       "      <th>type_of</th>\n",
       "    </tr>\n",
       "  </thead>\n",
       "  <tbody>\n",
       "    <tr>\n",
       "      <th>0</th>\n",
       "      <td>89</td>\n",
       "      <td>159</td>\n",
       "      <td>5</td>\n",
       "      <td>concept</td>\n",
       "    </tr>\n",
       "    <tr>\n",
       "      <th>1</th>\n",
       "      <td>100</td>\n",
       "      <td>70</td>\n",
       "      <td>1</td>\n",
       "      <td>concept</td>\n",
       "    </tr>\n",
       "    <tr>\n",
       "      <th>2</th>\n",
       "      <td>185</td>\n",
       "      <td>45</td>\n",
       "      <td>6</td>\n",
       "      <td>concept</td>\n",
       "    </tr>\n",
       "    <tr>\n",
       "      <th>3</th>\n",
       "      <td>192</td>\n",
       "      <td>79</td>\n",
       "      <td>5</td>\n",
       "      <td>solving question</td>\n",
       "    </tr>\n",
       "    <tr>\n",
       "      <th>4</th>\n",
       "      <td>317</td>\n",
       "      <td>156</td>\n",
       "      <td>5</td>\n",
       "      <td>solving question</td>\n",
       "    </tr>\n",
       "  </tbody>\n",
       "</table>\n",
       "</div>"
      ],
      "text/plain": [
       "   lecture_id  tag  part           type_of\n",
       "0          89  159     5           concept\n",
       "1         100   70     1           concept\n",
       "2         185   45     6           concept\n",
       "3         192   79     5  solving question\n",
       "4         317  156     5  solving question"
      ]
     },
     "execution_count": 26,
     "metadata": {},
     "output_type": "execute_result"
    }
   ],
   "source": [
    "le_data.head()"
   ]
  },
  {
   "cell_type": "code",
   "execution_count": 27,
   "id": "72738a25",
   "metadata": {},
   "outputs": [
    {
     "data": {
      "text/plain": [
       "<bound method DataFrame.info of      lecture_id  tag  part           type_of\n",
       "0            89  159     5           concept\n",
       "1           100   70     1           concept\n",
       "2           185   45     6           concept\n",
       "3           192   79     5  solving question\n",
       "4           317  156     5  solving question\n",
       "..          ...  ...   ...               ...\n",
       "413       32535    8     5  solving question\n",
       "414       32570  113     3  solving question\n",
       "415       32604   24     6           concept\n",
       "416       32625  142     2           concept\n",
       "417       32736   82     3           concept\n",
       "\n",
       "[418 rows x 4 columns]>"
      ]
     },
     "execution_count": 27,
     "metadata": {},
     "output_type": "execute_result"
    }
   ],
   "source": [
    "le_data.info"
   ]
  },
  {
   "cell_type": "code",
   "execution_count": 28,
   "id": "11f7bd48",
   "metadata": {},
   "outputs": [
    {
     "name": "stdout",
     "output_type": "stream",
     "text": [
      "У нас 418 lecture_ids.\n"
     ]
    }
   ],
   "source": [
    "print(f'У нас {le_data.shape[0]} lecture_ids.')"
   ]
  },
  {
   "cell_type": "markdown",
   "id": "ede8bbc4",
   "metadata": {},
   "source": [
    "Посмотрим графически распределение типов лекций"
   ]
  },
  {
   "cell_type": "code",
   "execution_count": 29,
   "id": "4717124b",
   "metadata": {},
   "outputs": [
    {
     "data": {
      "image/png": "[encoded data removed]",
      "text/plain": [
       "<Figure size 864x432 with 1 Axes>"
      ]
     },
     "metadata": {
      "needs_background": "light"
     },
     "output_type": "display_data"
    }
   ],
   "source": [
    "lect_type_of = le_data.type_of.value_counts()\n",
    "\n",
    "fig = plt.figure(figsize=(12,6))\n",
    "plt.bar(lect_type_of.index, lect_type_of.values)\n",
    "plt.title(\"Типы лекций\")\n",
    "plt.xlabel(\"type_of\")\n",
    "plt.ylabel(\"Итого lecture_id\")\n",
    "plt.xticks(rotation=0)\n",
    "plt.show()\n"
   ]
  },
  {
   "cell_type": "markdown",
   "id": "6044e98d",
   "metadata": {},
   "source": [
    "# Итоги:"
   ]
  },
  {
   "cell_type": "markdown",
   "id": "3a0a0bdf",
   "metadata": {},
   "source": [
    "В процессе рассмотрения данных с файлами  были проанализированны все характеристики, преобразован формат и добавленны дополнительные. У нас практически все признаки категориальные, за исключением нескольких числовых - времени. Датасет разбит на пользователей и требуется для получения рабочих признаков постоянно делать группировку по условию."
   ]
  }
 ],
 "metadata": {
  "kernelspec": {
   "display_name": "Python 3 (ipykernel)",
   "language": "python",
   "name": "python3"
  },
  "language_info": {
   "codemirror_mode": {
    "name": "ipython",
    "version": 3
   },
   "file_extension": ".py",
   "mimetype": "text/x-python",
   "name": "python",
   "nbconvert_exporter": "python",
   "pygments_lexer": "ipython3",
   "version": "3.9.7"
  }
 },
 "nbformat": 4,
 "nbformat_minor": 5
}
